{
 "cells": [
  {
   "cell_type": "markdown",
   "id": "e286789c-4124-43e0-86d6-2b7764204488",
   "metadata": {},
   "source": [
    "<div style=\"text-align: center; padding: 10px; background-color: #8ef14e; border-bottom: 15px solid #008cba;border-radius: 15px 50px; \">\n",
    "    <h1 style=\"font-size: 3em; color: #008cba;\">🌐 Anemia_Prediction 🌐</h1>\n",
    "    <h2 style=\"font-size: 2em; color: #333;\">✨ Created By Abdulrahman Mohammed ✨</h2>\n",
    "</div>"
   ]
  },
  {
   "cell_type": "markdown",
   "id": "a132cbbf-e6e2-433f-81d7-d09828f06a83",
   "metadata": {},
   "source": [
    "<a id=\"Import\"></a>\n",
    "<p style=\"background-color: #008080; font-family: 'Arial', sans-serif; color: #FFFFFF; font-size:160%; text-align:center; padding: 15px 25px; margin-top: 25px; border: 4px solid #20B2AA; border-left: 15px solid #FF6347; border-right: none; border-top: none; border-bottom: none; box-shadow: 0px 5px 10px rgba(0, 0, 0, 0.2);border-radius: 15px 50px 30px 5px;\">Import Libs & Load dataset</p>"
   ]
  },
  {
   "cell_type": "code",
   "execution_count": 1,
   "id": "c602ca5b-3a02-4ed1-94a2-acdc7a518816",
   "metadata": {},
   "outputs": [],
   "source": [
    "import numpy as np\n",
    "import pandas as pd\n",
    "import seaborn as sns\n",
    "import matplotlib.pyplot as plt\n",
    "from sklearn.preprocessing import LabelEncoder, StandardScaler\n",
    "from sklearn.model_selection import train_test_split\n",
    "from sklearn.svm import SVC\n",
    "from sklearn import tree\n",
    "from sklearn.neighbors import KNeighborsClassifier\n",
    "from sklearn.ensemble import RandomForestClassifier\n",
    "from sklearn.metrics import accuracy_score"
   ]
  },
  {
   "cell_type": "code",
   "execution_count": 2,
   "id": "8f8d683e-1b6b-4703-8b33-d1f889088c9a",
   "metadata": {},
   "outputs": [],
   "source": [
    "df = pd.read_csv('diabetes_dataset.csv')"
   ]
  },
  {
   "cell_type": "code",
   "execution_count": 3,
   "id": "10a7fbf1-0d93-402b-b550-e07c0b1adcbd",
   "metadata": {},
   "outputs": [
    {
     "data": {
      "text/html": [
       "<div>\n",
       "<style scoped>\n",
       "    .dataframe tbody tr th:only-of-type {\n",
       "        vertical-align: middle;\n",
       "    }\n",
       "\n",
       "    .dataframe tbody tr th {\n",
       "        vertical-align: top;\n",
       "    }\n",
       "\n",
       "    .dataframe thead th {\n",
       "        text-align: right;\n",
       "    }\n",
       "</style>\n",
       "<table border=\"1\" class=\"dataframe\">\n",
       "  <thead>\n",
       "    <tr style=\"text-align: right;\">\n",
       "      <th></th>\n",
       "      <th>year</th>\n",
       "      <th>gender</th>\n",
       "      <th>age</th>\n",
       "      <th>location</th>\n",
       "      <th>race:AfricanAmerican</th>\n",
       "      <th>race:Asian</th>\n",
       "      <th>race:Caucasian</th>\n",
       "      <th>race:Hispanic</th>\n",
       "      <th>race:Other</th>\n",
       "      <th>hypertension</th>\n",
       "      <th>heart_disease</th>\n",
       "      <th>smoking_history</th>\n",
       "      <th>bmi</th>\n",
       "      <th>hbA1c_level</th>\n",
       "      <th>blood_glucose_level</th>\n",
       "      <th>diabetes</th>\n",
       "    </tr>\n",
       "  </thead>\n",
       "  <tbody>\n",
       "    <tr>\n",
       "      <th>0</th>\n",
       "      <td>2020</td>\n",
       "      <td>Female</td>\n",
       "      <td>32.0</td>\n",
       "      <td>Alabama</td>\n",
       "      <td>0</td>\n",
       "      <td>0</td>\n",
       "      <td>0</td>\n",
       "      <td>0</td>\n",
       "      <td>1</td>\n",
       "      <td>0</td>\n",
       "      <td>0</td>\n",
       "      <td>never</td>\n",
       "      <td>27.32</td>\n",
       "      <td>5.0</td>\n",
       "      <td>100</td>\n",
       "      <td>0</td>\n",
       "    </tr>\n",
       "    <tr>\n",
       "      <th>1</th>\n",
       "      <td>2015</td>\n",
       "      <td>Female</td>\n",
       "      <td>29.0</td>\n",
       "      <td>Alabama</td>\n",
       "      <td>0</td>\n",
       "      <td>1</td>\n",
       "      <td>0</td>\n",
       "      <td>0</td>\n",
       "      <td>0</td>\n",
       "      <td>0</td>\n",
       "      <td>0</td>\n",
       "      <td>never</td>\n",
       "      <td>19.95</td>\n",
       "      <td>5.0</td>\n",
       "      <td>90</td>\n",
       "      <td>0</td>\n",
       "    </tr>\n",
       "    <tr>\n",
       "      <th>2</th>\n",
       "      <td>2015</td>\n",
       "      <td>Male</td>\n",
       "      <td>18.0</td>\n",
       "      <td>Alabama</td>\n",
       "      <td>0</td>\n",
       "      <td>0</td>\n",
       "      <td>0</td>\n",
       "      <td>0</td>\n",
       "      <td>1</td>\n",
       "      <td>0</td>\n",
       "      <td>0</td>\n",
       "      <td>never</td>\n",
       "      <td>23.76</td>\n",
       "      <td>4.8</td>\n",
       "      <td>160</td>\n",
       "      <td>0</td>\n",
       "    </tr>\n",
       "    <tr>\n",
       "      <th>3</th>\n",
       "      <td>2015</td>\n",
       "      <td>Male</td>\n",
       "      <td>41.0</td>\n",
       "      <td>Alabama</td>\n",
       "      <td>0</td>\n",
       "      <td>0</td>\n",
       "      <td>1</td>\n",
       "      <td>0</td>\n",
       "      <td>0</td>\n",
       "      <td>0</td>\n",
       "      <td>0</td>\n",
       "      <td>never</td>\n",
       "      <td>27.32</td>\n",
       "      <td>4.0</td>\n",
       "      <td>159</td>\n",
       "      <td>0</td>\n",
       "    </tr>\n",
       "    <tr>\n",
       "      <th>4</th>\n",
       "      <td>2016</td>\n",
       "      <td>Female</td>\n",
       "      <td>52.0</td>\n",
       "      <td>Alabama</td>\n",
       "      <td>1</td>\n",
       "      <td>0</td>\n",
       "      <td>0</td>\n",
       "      <td>0</td>\n",
       "      <td>0</td>\n",
       "      <td>0</td>\n",
       "      <td>0</td>\n",
       "      <td>never</td>\n",
       "      <td>23.75</td>\n",
       "      <td>6.5</td>\n",
       "      <td>90</td>\n",
       "      <td>0</td>\n",
       "    </tr>\n",
       "    <tr>\n",
       "      <th>...</th>\n",
       "      <td>...</td>\n",
       "      <td>...</td>\n",
       "      <td>...</td>\n",
       "      <td>...</td>\n",
       "      <td>...</td>\n",
       "      <td>...</td>\n",
       "      <td>...</td>\n",
       "      <td>...</td>\n",
       "      <td>...</td>\n",
       "      <td>...</td>\n",
       "      <td>...</td>\n",
       "      <td>...</td>\n",
       "      <td>...</td>\n",
       "      <td>...</td>\n",
       "      <td>...</td>\n",
       "      <td>...</td>\n",
       "    </tr>\n",
       "    <tr>\n",
       "      <th>99995</th>\n",
       "      <td>2018</td>\n",
       "      <td>Female</td>\n",
       "      <td>33.0</td>\n",
       "      <td>Wyoming</td>\n",
       "      <td>0</td>\n",
       "      <td>0</td>\n",
       "      <td>0</td>\n",
       "      <td>0</td>\n",
       "      <td>1</td>\n",
       "      <td>0</td>\n",
       "      <td>0</td>\n",
       "      <td>never</td>\n",
       "      <td>21.21</td>\n",
       "      <td>6.5</td>\n",
       "      <td>90</td>\n",
       "      <td>0</td>\n",
       "    </tr>\n",
       "    <tr>\n",
       "      <th>99996</th>\n",
       "      <td>2016</td>\n",
       "      <td>Female</td>\n",
       "      <td>80.0</td>\n",
       "      <td>Wyoming</td>\n",
       "      <td>0</td>\n",
       "      <td>1</td>\n",
       "      <td>0</td>\n",
       "      <td>0</td>\n",
       "      <td>0</td>\n",
       "      <td>0</td>\n",
       "      <td>0</td>\n",
       "      <td>No Info</td>\n",
       "      <td>36.66</td>\n",
       "      <td>5.7</td>\n",
       "      <td>100</td>\n",
       "      <td>0</td>\n",
       "    </tr>\n",
       "    <tr>\n",
       "      <th>99997</th>\n",
       "      <td>2018</td>\n",
       "      <td>Male</td>\n",
       "      <td>46.0</td>\n",
       "      <td>Wyoming</td>\n",
       "      <td>0</td>\n",
       "      <td>1</td>\n",
       "      <td>0</td>\n",
       "      <td>0</td>\n",
       "      <td>0</td>\n",
       "      <td>0</td>\n",
       "      <td>0</td>\n",
       "      <td>ever</td>\n",
       "      <td>36.12</td>\n",
       "      <td>6.2</td>\n",
       "      <td>158</td>\n",
       "      <td>0</td>\n",
       "    </tr>\n",
       "    <tr>\n",
       "      <th>99998</th>\n",
       "      <td>2018</td>\n",
       "      <td>Female</td>\n",
       "      <td>51.0</td>\n",
       "      <td>Wyoming</td>\n",
       "      <td>1</td>\n",
       "      <td>0</td>\n",
       "      <td>0</td>\n",
       "      <td>0</td>\n",
       "      <td>0</td>\n",
       "      <td>0</td>\n",
       "      <td>0</td>\n",
       "      <td>not current</td>\n",
       "      <td>29.29</td>\n",
       "      <td>6.0</td>\n",
       "      <td>155</td>\n",
       "      <td>0</td>\n",
       "    </tr>\n",
       "    <tr>\n",
       "      <th>99999</th>\n",
       "      <td>2016</td>\n",
       "      <td>Male</td>\n",
       "      <td>13.0</td>\n",
       "      <td>Wyoming</td>\n",
       "      <td>0</td>\n",
       "      <td>0</td>\n",
       "      <td>0</td>\n",
       "      <td>1</td>\n",
       "      <td>0</td>\n",
       "      <td>0</td>\n",
       "      <td>0</td>\n",
       "      <td>No Info</td>\n",
       "      <td>17.16</td>\n",
       "      <td>5.0</td>\n",
       "      <td>90</td>\n",
       "      <td>0</td>\n",
       "    </tr>\n",
       "  </tbody>\n",
       "</table>\n",
       "<p>100000 rows × 16 columns</p>\n",
       "</div>"
      ],
      "text/plain": [
       "       year  gender   age location  race:AfricanAmerican  race:Asian  \\\n",
       "0      2020  Female  32.0  Alabama                     0           0   \n",
       "1      2015  Female  29.0  Alabama                     0           1   \n",
       "2      2015    Male  18.0  Alabama                     0           0   \n",
       "3      2015    Male  41.0  Alabama                     0           0   \n",
       "4      2016  Female  52.0  Alabama                     1           0   \n",
       "...     ...     ...   ...      ...                   ...         ...   \n",
       "99995  2018  Female  33.0  Wyoming                     0           0   \n",
       "99996  2016  Female  80.0  Wyoming                     0           1   \n",
       "99997  2018    Male  46.0  Wyoming                     0           1   \n",
       "99998  2018  Female  51.0  Wyoming                     1           0   \n",
       "99999  2016    Male  13.0  Wyoming                     0           0   \n",
       "\n",
       "       race:Caucasian  race:Hispanic  race:Other  hypertension  heart_disease  \\\n",
       "0                   0              0           1             0              0   \n",
       "1                   0              0           0             0              0   \n",
       "2                   0              0           1             0              0   \n",
       "3                   1              0           0             0              0   \n",
       "4                   0              0           0             0              0   \n",
       "...               ...            ...         ...           ...            ...   \n",
       "99995               0              0           1             0              0   \n",
       "99996               0              0           0             0              0   \n",
       "99997               0              0           0             0              0   \n",
       "99998               0              0           0             0              0   \n",
       "99999               0              1           0             0              0   \n",
       "\n",
       "      smoking_history    bmi  hbA1c_level  blood_glucose_level  diabetes  \n",
       "0               never  27.32          5.0                  100         0  \n",
       "1               never  19.95          5.0                   90         0  \n",
       "2               never  23.76          4.8                  160         0  \n",
       "3               never  27.32          4.0                  159         0  \n",
       "4               never  23.75          6.5                   90         0  \n",
       "...               ...    ...          ...                  ...       ...  \n",
       "99995           never  21.21          6.5                   90         0  \n",
       "99996         No Info  36.66          5.7                  100         0  \n",
       "99997            ever  36.12          6.2                  158         0  \n",
       "99998     not current  29.29          6.0                  155         0  \n",
       "99999         No Info  17.16          5.0                   90         0  \n",
       "\n",
       "[100000 rows x 16 columns]"
      ]
     },
     "execution_count": 3,
     "metadata": {},
     "output_type": "execute_result"
    }
   ],
   "source": [
    "df"
   ]
  },
  {
   "cell_type": "code",
   "execution_count": 4,
   "id": "522cd28c-90bd-4051-add1-b590667af910",
   "metadata": {},
   "outputs": [
    {
     "data": {
      "text/plain": [
       "Index(['year', 'gender', 'age', 'location', 'race:AfricanAmerican',\n",
       "       'race:Asian', 'race:Caucasian', 'race:Hispanic', 'race:Other',\n",
       "       'hypertension', 'heart_disease', 'smoking_history', 'bmi',\n",
       "       'hbA1c_level', 'blood_glucose_level', 'diabetes'],\n",
       "      dtype='object')"
      ]
     },
     "execution_count": 4,
     "metadata": {},
     "output_type": "execute_result"
    }
   ],
   "source": [
    "df.columns"
   ]
  },
  {
   "cell_type": "code",
   "execution_count": 5,
   "id": "4bca8025-8f9b-4b12-ad42-955df4a12845",
   "metadata": {},
   "outputs": [],
   "source": [
    "df=df.drop(['year', 'gender', 'location', 'race:AfricanAmerican',\n",
    "       'race:Asian', 'race:Caucasian', 'race:Hispanic', 'race:Other',\n",
    "       'heart_disease', 'smoking_history'],axis=1)"
   ]
  },
  {
   "cell_type": "code",
   "execution_count": 6,
   "id": "b2e32ced-bcbc-432c-8fbb-6ccbdab9c47f",
   "metadata": {},
   "outputs": [
    {
     "data": {
      "text/plain": [
       "Index(['age', 'hypertension', 'bmi', 'hbA1c_level', 'blood_glucose_level',\n",
       "       'diabetes'],\n",
       "      dtype='object')"
      ]
     },
     "execution_count": 6,
     "metadata": {},
     "output_type": "execute_result"
    }
   ],
   "source": [
    "df.columns"
   ]
  },
  {
   "cell_type": "code",
   "execution_count": 7,
   "id": "f2632966-9c4b-4865-beaa-e3be43a871d3",
   "metadata": {},
   "outputs": [
    {
     "data": {
      "text/html": [
       "<div>\n",
       "<style scoped>\n",
       "    .dataframe tbody tr th:only-of-type {\n",
       "        vertical-align: middle;\n",
       "    }\n",
       "\n",
       "    .dataframe tbody tr th {\n",
       "        vertical-align: top;\n",
       "    }\n",
       "\n",
       "    .dataframe thead th {\n",
       "        text-align: right;\n",
       "    }\n",
       "</style>\n",
       "<table border=\"1\" class=\"dataframe\">\n",
       "  <thead>\n",
       "    <tr style=\"text-align: right;\">\n",
       "      <th></th>\n",
       "      <th>age</th>\n",
       "      <th>hypertension</th>\n",
       "      <th>bmi</th>\n",
       "      <th>hbA1c_level</th>\n",
       "      <th>blood_glucose_level</th>\n",
       "      <th>diabetes</th>\n",
       "    </tr>\n",
       "  </thead>\n",
       "  <tbody>\n",
       "    <tr>\n",
       "      <th>0</th>\n",
       "      <td>32.0</td>\n",
       "      <td>0</td>\n",
       "      <td>27.32</td>\n",
       "      <td>5.0</td>\n",
       "      <td>100</td>\n",
       "      <td>0</td>\n",
       "    </tr>\n",
       "    <tr>\n",
       "      <th>1</th>\n",
       "      <td>29.0</td>\n",
       "      <td>0</td>\n",
       "      <td>19.95</td>\n",
       "      <td>5.0</td>\n",
       "      <td>90</td>\n",
       "      <td>0</td>\n",
       "    </tr>\n",
       "    <tr>\n",
       "      <th>2</th>\n",
       "      <td>18.0</td>\n",
       "      <td>0</td>\n",
       "      <td>23.76</td>\n",
       "      <td>4.8</td>\n",
       "      <td>160</td>\n",
       "      <td>0</td>\n",
       "    </tr>\n",
       "    <tr>\n",
       "      <th>3</th>\n",
       "      <td>41.0</td>\n",
       "      <td>0</td>\n",
       "      <td>27.32</td>\n",
       "      <td>4.0</td>\n",
       "      <td>159</td>\n",
       "      <td>0</td>\n",
       "    </tr>\n",
       "    <tr>\n",
       "      <th>4</th>\n",
       "      <td>52.0</td>\n",
       "      <td>0</td>\n",
       "      <td>23.75</td>\n",
       "      <td>6.5</td>\n",
       "      <td>90</td>\n",
       "      <td>0</td>\n",
       "    </tr>\n",
       "    <tr>\n",
       "      <th>...</th>\n",
       "      <td>...</td>\n",
       "      <td>...</td>\n",
       "      <td>...</td>\n",
       "      <td>...</td>\n",
       "      <td>...</td>\n",
       "      <td>...</td>\n",
       "    </tr>\n",
       "    <tr>\n",
       "      <th>99995</th>\n",
       "      <td>33.0</td>\n",
       "      <td>0</td>\n",
       "      <td>21.21</td>\n",
       "      <td>6.5</td>\n",
       "      <td>90</td>\n",
       "      <td>0</td>\n",
       "    </tr>\n",
       "    <tr>\n",
       "      <th>99996</th>\n",
       "      <td>80.0</td>\n",
       "      <td>0</td>\n",
       "      <td>36.66</td>\n",
       "      <td>5.7</td>\n",
       "      <td>100</td>\n",
       "      <td>0</td>\n",
       "    </tr>\n",
       "    <tr>\n",
       "      <th>99997</th>\n",
       "      <td>46.0</td>\n",
       "      <td>0</td>\n",
       "      <td>36.12</td>\n",
       "      <td>6.2</td>\n",
       "      <td>158</td>\n",
       "      <td>0</td>\n",
       "    </tr>\n",
       "    <tr>\n",
       "      <th>99998</th>\n",
       "      <td>51.0</td>\n",
       "      <td>0</td>\n",
       "      <td>29.29</td>\n",
       "      <td>6.0</td>\n",
       "      <td>155</td>\n",
       "      <td>0</td>\n",
       "    </tr>\n",
       "    <tr>\n",
       "      <th>99999</th>\n",
       "      <td>13.0</td>\n",
       "      <td>0</td>\n",
       "      <td>17.16</td>\n",
       "      <td>5.0</td>\n",
       "      <td>90</td>\n",
       "      <td>0</td>\n",
       "    </tr>\n",
       "  </tbody>\n",
       "</table>\n",
       "<p>100000 rows × 6 columns</p>\n",
       "</div>"
      ],
      "text/plain": [
       "        age  hypertension    bmi  hbA1c_level  blood_glucose_level  diabetes\n",
       "0      32.0             0  27.32          5.0                  100         0\n",
       "1      29.0             0  19.95          5.0                   90         0\n",
       "2      18.0             0  23.76          4.8                  160         0\n",
       "3      41.0             0  27.32          4.0                  159         0\n",
       "4      52.0             0  23.75          6.5                   90         0\n",
       "...     ...           ...    ...          ...                  ...       ...\n",
       "99995  33.0             0  21.21          6.5                   90         0\n",
       "99996  80.0             0  36.66          5.7                  100         0\n",
       "99997  46.0             0  36.12          6.2                  158         0\n",
       "99998  51.0             0  29.29          6.0                  155         0\n",
       "99999  13.0             0  17.16          5.0                   90         0\n",
       "\n",
       "[100000 rows x 6 columns]"
      ]
     },
     "execution_count": 7,
     "metadata": {},
     "output_type": "execute_result"
    }
   ],
   "source": [
    "df"
   ]
  },
  {
   "cell_type": "markdown",
   "id": "6c5b7d6b-1e6f-4355-85e8-81d67639de9d",
   "metadata": {},
   "source": [
    "<a id=\"Import\"></a>\n",
    "<p style=\"background-color: #008080; font-family: 'Arial', sans-serif; color: #FFFFFF; font-size:160%; text-align:center; padding: 15px 25px; margin-top: 25px; border: 4px solid #20B2AA; border-left: 15px solid #FF6347; border-right: none; border-top: none; border-bottom: none; box-shadow: 0px 5px 10px rgba(0, 0, 0, 0.2);border-radius: 15px 50px 30px 5px;\"> Data Preprocessing </p>"
   ]
  },
  {
   "cell_type": "code",
   "execution_count": 8,
   "id": "cd6409fb-3ec1-49b0-851a-d1353c98193a",
   "metadata": {},
   "outputs": [
    {
     "data": {
      "text/html": [
       "<div>\n",
       "<style scoped>\n",
       "    .dataframe tbody tr th:only-of-type {\n",
       "        vertical-align: middle;\n",
       "    }\n",
       "\n",
       "    .dataframe tbody tr th {\n",
       "        vertical-align: top;\n",
       "    }\n",
       "\n",
       "    .dataframe thead th {\n",
       "        text-align: right;\n",
       "    }\n",
       "</style>\n",
       "<table border=\"1\" class=\"dataframe\">\n",
       "  <thead>\n",
       "    <tr style=\"text-align: right;\">\n",
       "      <th></th>\n",
       "      <th>age</th>\n",
       "      <th>hypertension</th>\n",
       "      <th>bmi</th>\n",
       "      <th>hbA1c_level</th>\n",
       "      <th>blood_glucose_level</th>\n",
       "      <th>diabetes</th>\n",
       "    </tr>\n",
       "  </thead>\n",
       "  <tbody>\n",
       "    <tr>\n",
       "      <th>count</th>\n",
       "      <td>100000.000000</td>\n",
       "      <td>100000.00000</td>\n",
       "      <td>100000.000000</td>\n",
       "      <td>100000.000000</td>\n",
       "      <td>100000.000000</td>\n",
       "      <td>100000.000000</td>\n",
       "    </tr>\n",
       "    <tr>\n",
       "      <th>mean</th>\n",
       "      <td>41.885856</td>\n",
       "      <td>0.07485</td>\n",
       "      <td>27.320767</td>\n",
       "      <td>5.527507</td>\n",
       "      <td>138.058060</td>\n",
       "      <td>0.085000</td>\n",
       "    </tr>\n",
       "    <tr>\n",
       "      <th>std</th>\n",
       "      <td>22.516840</td>\n",
       "      <td>0.26315</td>\n",
       "      <td>6.636783</td>\n",
       "      <td>1.070672</td>\n",
       "      <td>40.708136</td>\n",
       "      <td>0.278883</td>\n",
       "    </tr>\n",
       "    <tr>\n",
       "      <th>min</th>\n",
       "      <td>0.080000</td>\n",
       "      <td>0.00000</td>\n",
       "      <td>10.010000</td>\n",
       "      <td>3.500000</td>\n",
       "      <td>80.000000</td>\n",
       "      <td>0.000000</td>\n",
       "    </tr>\n",
       "    <tr>\n",
       "      <th>25%</th>\n",
       "      <td>24.000000</td>\n",
       "      <td>0.00000</td>\n",
       "      <td>23.630000</td>\n",
       "      <td>4.800000</td>\n",
       "      <td>100.000000</td>\n",
       "      <td>0.000000</td>\n",
       "    </tr>\n",
       "    <tr>\n",
       "      <th>50%</th>\n",
       "      <td>43.000000</td>\n",
       "      <td>0.00000</td>\n",
       "      <td>27.320000</td>\n",
       "      <td>5.800000</td>\n",
       "      <td>140.000000</td>\n",
       "      <td>0.000000</td>\n",
       "    </tr>\n",
       "    <tr>\n",
       "      <th>75%</th>\n",
       "      <td>60.000000</td>\n",
       "      <td>0.00000</td>\n",
       "      <td>29.580000</td>\n",
       "      <td>6.200000</td>\n",
       "      <td>159.000000</td>\n",
       "      <td>0.000000</td>\n",
       "    </tr>\n",
       "    <tr>\n",
       "      <th>max</th>\n",
       "      <td>80.000000</td>\n",
       "      <td>1.00000</td>\n",
       "      <td>95.690000</td>\n",
       "      <td>9.000000</td>\n",
       "      <td>300.000000</td>\n",
       "      <td>1.000000</td>\n",
       "    </tr>\n",
       "  </tbody>\n",
       "</table>\n",
       "</div>"
      ],
      "text/plain": [
       "                 age  hypertension            bmi    hbA1c_level  \\\n",
       "count  100000.000000  100000.00000  100000.000000  100000.000000   \n",
       "mean       41.885856       0.07485      27.320767       5.527507   \n",
       "std        22.516840       0.26315       6.636783       1.070672   \n",
       "min         0.080000       0.00000      10.010000       3.500000   \n",
       "25%        24.000000       0.00000      23.630000       4.800000   \n",
       "50%        43.000000       0.00000      27.320000       5.800000   \n",
       "75%        60.000000       0.00000      29.580000       6.200000   \n",
       "max        80.000000       1.00000      95.690000       9.000000   \n",
       "\n",
       "       blood_glucose_level       diabetes  \n",
       "count        100000.000000  100000.000000  \n",
       "mean            138.058060       0.085000  \n",
       "std              40.708136       0.278883  \n",
       "min              80.000000       0.000000  \n",
       "25%             100.000000       0.000000  \n",
       "50%             140.000000       0.000000  \n",
       "75%             159.000000       0.000000  \n",
       "max             300.000000       1.000000  "
      ]
     },
     "execution_count": 8,
     "metadata": {},
     "output_type": "execute_result"
    }
   ],
   "source": [
    "df.describe()"
   ]
  },
  {
   "cell_type": "code",
   "execution_count": 9,
   "id": "1dcf40d9-63b6-4c8f-bdba-a74a5c5a1107",
   "metadata": {},
   "outputs": [
    {
     "data": {
      "text/plain": [
       "diabetes\n",
       "0    91500\n",
       "1     8500\n",
       "Name: count, dtype: int64"
      ]
     },
     "execution_count": 9,
     "metadata": {},
     "output_type": "execute_result"
    }
   ],
   "source": [
    "df['diabetes'].value_counts()"
   ]
  },
  {
   "cell_type": "code",
   "execution_count": 10,
   "id": "27668434-8243-4e10-b25e-8b847bd5b454",
   "metadata": {},
   "outputs": [
    {
     "data": {
      "text/plain": [
       "age                    0\n",
       "hypertension           0\n",
       "bmi                    0\n",
       "hbA1c_level            0\n",
       "blood_glucose_level    0\n",
       "diabetes               0\n",
       "dtype: int64"
      ]
     },
     "execution_count": 10,
     "metadata": {},
     "output_type": "execute_result"
    }
   ],
   "source": [
    "df.isnull().sum()"
   ]
  },
  {
   "cell_type": "code",
   "execution_count": 11,
   "id": "12a3f0e5-ee3f-4b43-a480-410914912f6b",
   "metadata": {},
   "outputs": [
    {
     "name": "stdout",
     "output_type": "stream",
     "text": [
      "Number of duplicate rows: 13328\n"
     ]
    }
   ],
   "source": [
    "duplicate_count=df.duplicated().sum()\n",
    "print(f\"Number of duplicate rows: {duplicate_count}\")"
   ]
  },
  {
   "cell_type": "code",
   "execution_count": 12,
   "id": "771a2e99-aff9-4d7d-9245-91d8884a9ee5",
   "metadata": {},
   "outputs": [
    {
     "data": {
      "text/plain": [
       "0"
      ]
     },
     "execution_count": 12,
     "metadata": {},
     "output_type": "execute_result"
    }
   ],
   "source": [
    "df = df.drop_duplicates() # REMOVE DUBLICATED VALUES\n",
    "df.duplicated().sum()"
   ]
  },
  {
   "cell_type": "code",
   "execution_count": 13,
   "id": "e5bc2591-2165-4759-85d4-12c3f00023eb",
   "metadata": {},
   "outputs": [
    {
     "name": "stdout",
     "output_type": "stream",
     "text": [
      "<class 'pandas.core.frame.DataFrame'>\n",
      "Index: 86672 entries, 0 to 99999\n",
      "Data columns (total 6 columns):\n",
      " #   Column               Non-Null Count  Dtype  \n",
      "---  ------               --------------  -----  \n",
      " 0   age                  86672 non-null  float64\n",
      " 1   hypertension         86672 non-null  int64  \n",
      " 2   bmi                  86672 non-null  float64\n",
      " 3   hbA1c_level          86672 non-null  float64\n",
      " 4   blood_glucose_level  86672 non-null  int64  \n",
      " 5   diabetes             86672 non-null  int64  \n",
      "dtypes: float64(3), int64(3)\n",
      "memory usage: 4.6 MB\n"
     ]
    }
   ],
   "source": [
    "df.info()"
   ]
  },
  {
   "cell_type": "code",
   "execution_count": 14,
   "id": "7e2b4c14-4155-4ff5-abe9-e14b6f23cd59",
   "metadata": {},
   "outputs": [
    {
     "data": {
      "text/plain": [
       "(86672, 6)"
      ]
     },
     "execution_count": 14,
     "metadata": {},
     "output_type": "execute_result"
    }
   ],
   "source": [
    "df.shape"
   ]
  },
  {
   "cell_type": "markdown",
   "id": "508b05b9-1bbd-4bc4-bd08-b1277357ad51",
   "metadata": {},
   "source": [
    "<a id=\"Import\"></a>\n",
    "<p style=\"background-color: #008080; font-family: 'Arial', sans-serif; color: #FFFFFF; font-size:160%; text-align:center; padding: 15px 25px; margin-top: 25px; border: 4px solid #20B2AA; border-left: 15px solid #FF6347; border-right: none; border-top: none; border-bottom: none; box-shadow: 0px 5px 10px rgba(0, 0, 0, 0.2);border-radius: 15px 50px 30px 5px;\"> Data Visualization </p>"
   ]
  },
  {
   "cell_type": "code",
   "execution_count": 15,
   "id": "e1c597a3-e5a0-4d92-8370-b003641a7b1e",
   "metadata": {},
   "outputs": [
    {
     "data": {
      "image/png": "[encoded data removed]",
      "text/plain": [
       "<Figure size 1500x400 with 1 Axes>"
      ]
     },
     "metadata": {},
     "output_type": "display_data"
    }
   ],
   "source": [
    "fig = plt.figure(figsize =(15, 4))\n",
    "\n",
    "plt.pie(df.groupby('diabetes').size(), labels =['Negative', 'Positive'], explode=(0, 0.1), autopct='%1.1f%%', shadow=True,colors=['olivedrab', 'rosybrown'])\n",
    "\n",
    "plt.show()"
   ]
  },
  {
   "cell_type": "code",
   "execution_count": 16,
   "id": "0d48a2f7-88dd-4a9c-a2b7-addb50735af4",
   "metadata": {},
   "outputs": [
    {
     "data": {
      "image/png": "[encoded data removed]",
      "text/plain": [
       "<Figure size 900x900 with 6 Axes>"
      ]
     },
     "metadata": {},
     "output_type": "display_data"
    }
   ],
   "source": [
    "df.hist(bins=100, figsize=(9,9), color='b')\n",
    "plt.show()"
   ]
  },
  {
   "cell_type": "code",
   "execution_count": 17,
   "id": "52ee542b-373a-4e07-92d1-d3fd0ed342d6",
   "metadata": {},
   "outputs": [
    {
     "data": {
      "text/plain": [
       "<Axes: >"
      ]
     },
     "execution_count": 17,
     "metadata": {},
     "output_type": "execute_result"
    },
    {
     "data": {
      "image/png": "[encoded data removed]",
      "text/plain": [
       "<Figure size 800x800 with 2 Axes>"
      ]
     },
     "metadata": {},
     "output_type": "display_data"
    }
   ],
   "source": [
    "correlation=df.corr()\n",
    "plt.figure(figsize=(8,8))\n",
    "sns.heatmap(correlation ,annot=True ,cbar=True ,cmap='YlGnBu')"
   ]
  },
  {
   "cell_type": "markdown",
   "id": "f9477cdb-befe-4889-9898-2dc68b30d115",
   "metadata": {},
   "source": [
    "<a id=\"Import\"></a>\n",
    "<p style=\"background-color: #008080; font-family: 'Arial', sans-serif; color: #FFFFFF; font-size:160%; text-align:center; padding: 15px 25px; margin-top: 25px; border: 4px solid #20B2AA; border-left: 15px solid #FF6347; border-right: none; border-top: none; border-bottom: none; box-shadow: 0px 5px 10px rgba(0, 0, 0, 0.2);border-radius: 15px 50px 30px 5px;\"> Data Seprating </p>"
   ]
  },
  {
   "cell_type": "code",
   "execution_count": 18,
   "id": "3b146200-720c-4f7f-baeb-a4829de08599",
   "metadata": {},
   "outputs": [],
   "source": [
    "X=df.drop(['diabetes'],axis=1)\n",
    "Y=df['diabetes']"
   ]
  },
  {
   "cell_type": "code",
   "execution_count": 19,
   "id": "4e61a363-b053-4ce5-885a-a9ac9124456c",
   "metadata": {},
   "outputs": [
    {
     "data": {
      "text/plain": [
       "(86672, 5)"
      ]
     },
     "execution_count": 19,
     "metadata": {},
     "output_type": "execute_result"
    }
   ],
   "source": [
    "X.shape"
   ]
  },
  {
   "cell_type": "code",
   "execution_count": 20,
   "id": "e90770b9-ee0b-4613-8df0-8244d6d5a648",
   "metadata": {},
   "outputs": [
    {
     "data": {
      "text/plain": [
       "(86672,)"
      ]
     },
     "execution_count": 20,
     "metadata": {},
     "output_type": "execute_result"
    }
   ],
   "source": [
    "Y.shape"
   ]
  },
  {
   "cell_type": "markdown",
   "id": "57cbaabd-1b27-45df-bc97-e80e230250a4",
   "metadata": {},
   "source": [
    "<a id=\"Import\"></a>\n",
    "<p style=\"background-color: #008080; font-family: 'Arial', sans-serif; color: #FFFFFF; font-size:160%; text-align:center; padding: 15px 25px; margin-top: 25px; border: 4px solid #20B2AA; border-left: 15px solid #FF6347; border-right: none; border-top: none; border-bottom: none; box-shadow: 0px 5px 10px rgba(0, 0, 0, 0.2);border-radius: 15px 50px 30px 5px;\"> Data Standardization </p>"
   ]
  },
  {
   "cell_type": "code",
   "execution_count": 21,
   "id": "35eb8e13-bda2-43dc-8d47-f168d59c178d",
   "metadata": {},
   "outputs": [],
   "source": [
    "scaler= StandardScaler()\n",
    "X=scaler.fit_transform(X)"
   ]
  },
  {
   "cell_type": "code",
   "execution_count": 22,
   "id": "4518d764-46ae-4039-bf64-6a013ecabd33",
   "metadata": {},
   "outputs": [],
   "source": [
    "X_train,X_test,Y_train,Y_test=train_test_split(X,Y,test_size=0.2,random_state=42)"
   ]
  },
  {
   "cell_type": "markdown",
   "id": "a3151458-0970-4a49-b869-6855a0a53ab7",
   "metadata": {},
   "source": [
    "<a id=\"Import\"></a>\n",
    "<p style=\"background-color: #008080; font-family: 'Arial', sans-serif; color: #FFFFFF; font-size:160%; text-align:center; padding: 15px 25px; margin-top: 25px; border: 4px solid #20B2AA; border-left: 15px solid #FF6347; border-right: none; border-top: none; border-bottom: none; box-shadow: 0px 5px 10px rgba(0, 0, 0, 0.2);border-radius: 15px 50px 30px 5px;\"> ML Algorithms </p>"
   ]
  },
  {
   "cell_type": "markdown",
   "id": "83ced2d3-c4cc-4382-8115-48302b5d4c7b",
   "metadata": {},
   "source": [
    "### RandomForestClassifier"
   ]
  },
  {
   "cell_type": "code",
   "execution_count": 23,
   "id": "ea3d6a60-a0e8-4aee-a310-8581daaaeeeb",
   "metadata": {},
   "outputs": [
    {
     "name": "stdout",
     "output_type": "stream",
     "text": [
      "accuracy score on the training data :  0.9968415131892063\n",
      "accuracy score on the testing data :  0.9618690510527834\n"
     ]
    }
   ],
   "source": [
    "model2 = RandomForestClassifier()\n",
    "model2.fit(X_train, Y_train)\n",
    "print('accuracy score on the training data : ',model2.score(X_train, Y_train))\n",
    "print('accuracy score on the testing data : ',model2.score(X_test, Y_test))"
   ]
  },
  {
   "cell_type": "markdown",
   "id": "5dc8dbde-1465-455c-b86c-e39ae1d2ae0b",
   "metadata": {},
   "source": [
    "### DecisionTreeClassifier"
   ]
  },
  {
   "cell_type": "code",
   "execution_count": 24,
   "id": "2305349d-519a-4d74-ad96-2ebf992500e0",
   "metadata": {},
   "outputs": [
    {
     "name": "stdout",
     "output_type": "stream",
     "text": [
      "accuracy score on the training data :  0.9968415131892063\n",
      "accuracy score on the testing data :  0.9460628785693683\n"
     ]
    }
   ],
   "source": [
    "model3 = tree.DecisionTreeClassifier()\n",
    "model3.fit(X_train, Y_train)\n",
    "print('accuracy score on the training data : ',model3.score(X_train, Y_train))\n",
    "print('accuracy score on the testing data : ',model3.score(X_test, Y_test))"
   ]
  },
  {
   "cell_type": "markdown",
   "id": "1b57e7f7-dc65-4269-936d-71484982d159",
   "metadata": {},
   "source": [
    "### KNeighborsClassifier"
   ]
  },
  {
   "cell_type": "code",
   "execution_count": 25,
   "id": "d2f68c17-6304-46e1-9470-5efcd5146f2b",
   "metadata": {},
   "outputs": [
    {
     "name": "stdout",
     "output_type": "stream",
     "text": [
      "accuracy score on the training data :  0.9686314666051314\n",
      "accuracy score on the testing data :  0.9599077011825786\n"
     ]
    }
   ],
   "source": [
    "model4 =KNeighborsClassifier()\n",
    "model4.fit(X_train, Y_train)\n",
    "print('accuracy score on the training data : ',model4.score(X_train, Y_train))\n",
    "print('accuracy score on the testing data : ',model4.score(X_test, Y_test))"
   ]
  },
  {
   "cell_type": "markdown",
   "id": "415560d5-2234-4a3a-bda5-0e553bfa1937",
   "metadata": {},
   "source": [
    "<p style=\"background-color: #008080; font-family: 'Arial', sans-serif; color: #FFFFFF; font-size:160%; text-align:center; padding: 15px 25px; margin-top: 25px; border: 4px solid #20B2AA; border-left: 15px solid #FF6347; border-right: none; border-top: none; border-bottom: none; box-shadow: 0px 5px 10px rgba(0, 0, 0, 0.2);border-radius: 15px 50px 30px 5px;\"> system evaluation </p>"
   ]
  },
  {
   "cell_type": "code",
   "execution_count": 26,
   "id": "8ae2b65f-97dd-450d-a6bf-7fdf1407a3a9",
   "metadata": {},
   "outputs": [
    {
     "name": "stdout",
     "output_type": "stream",
     "text": [
      "[[-4.21070000e-01  3.28733416e+00 -6.40412613e-04 -4.20433135e+00\n",
      "  -9.32799322e-01]]\n",
      "[0]\n",
      "Negative -\n"
     ]
    },
    {
     "name": "stderr",
     "output_type": "stream",
     "text": [
      "C:\\Users\\HP Elite BOOK\\AppData\\Roaming\\Python\\Python312\\site-packages\\sklearn\\base.py:493: UserWarning: X does not have valid feature names, but StandardScaler was fitted with feature names\n",
      "  warnings.warn(\n"
     ]
    }
   ],
   "source": [
    "input_data=(32.0,1,27.32,1.0,100)\n",
    "input_data_arr=np.asarray(input_data)\n",
    "input_data_arr_reshape=input_data_arr.reshape(1,-1)\n",
    "\n",
    "\n",
    "input_data_arr_scaler=scaler.transform(input_data_arr_reshape)\n",
    "print(input_data_arr_scaler)\n",
    "\n",
    "\n",
    "predict_input=model2.predict(input_data_arr_scaler)\n",
    "print(predict_input)\n",
    "\n",
    "\n",
    "if predict_input==1:\n",
    "    print(\"Positive +\")\n",
    "else:\n",
    "        print(\"Negative -\")\n"
   ]
  },
  {
   "cell_type": "markdown",
   "id": "79791fc8-b0ee-4d87-bba3-42faafc3fcd8",
   "metadata": {},
   "source": [
    "# Saving Model "
   ]
  },
  {
   "cell_type": "code",
   "execution_count": 27,
   "id": "b00dbda7-dfa4-425f-b5cc-20a52e275d1c",
   "metadata": {},
   "outputs": [
    {
     "name": "stdout",
     "output_type": "stream",
     "text": [
      "Model saved!\n",
      "Scaler saved!\n",
      "Restored Model Accuracy: 0.96\n"
     ]
    }
   ],
   "source": [
    "import joblib\n",
    "\n",
    "joblib.dump(model2, 'diabetes.pkl')\n",
    "print(\"Model saved!\")\n",
    "\n",
    "joblib.dump(scaler, 'scalerdiabetes.pkl')\n",
    "print(\"Scaler saved!\")\n",
    "\n",
    "loaded_model = joblib.load('diabetes.pkl')\n",
    "\n",
    "new_predictions = loaded_model.predict(X_test)\n",
    "print(f\"Restored Model Accuracy: {accuracy_score(Y_test, new_predictions):.2f}\")"
   ]
  },
  {
   "cell_type": "code",
   "execution_count": 28,
   "id": "0a51afa7-782f-4d73-91af-8fbf38f9791a",
   "metadata": {},
   "outputs": [],
   "source": [
    "loaded_model = joblib.load('diabetes.pkl')"
   ]
  },
  {
   "cell_type": "code",
   "execution_count": 29,
   "id": "5d8f87fa-a3f4-4201-8997-ecd7c9d513b6",
   "metadata": {
    "scrolled": true
   },
   "outputs": [
    {
     "data": {
      "text/plain": [
       "array([0, 0, 0, ..., 0, 0, 0], dtype=int64)"
      ]
     },
     "execution_count": 29,
     "metadata": {},
     "output_type": "execute_result"
    }
   ],
   "source": [
    "loaded_model.predict(X_test)"
   ]
  },
  {
   "cell_type": "code",
   "execution_count": 30,
   "id": "2bb5df8f-c7a8-4229-8169-e8938d1d88cb",
   "metadata": {},
   "outputs": [
    {
     "data": {
      "text/plain": [
       "array([0, 0, 0, ..., 0, 0, 0], dtype=int64)"
      ]
     },
     "execution_count": 30,
     "metadata": {},
     "output_type": "execute_result"
    }
   ],
   "source": [
    "loaded_model.predict(X_test)"
   ]
  },
  {
   "cell_type": "code",
   "execution_count": 31,
   "id": "0c81af61-591c-494c-a0a1-0ac95ad838d4",
   "metadata": {},
   "outputs": [
    {
     "name": "stdout",
     "output_type": "stream",
     "text": [
      "78482    0\n",
      "41820    0\n",
      "53890    0\n",
      "85307    0\n",
      "1127     0\n",
      "        ..\n",
      "71054    1\n",
      "8557     0\n",
      "27020    0\n",
      "20042    1\n",
      "35161    0\n",
      "Name: diabetes, Length: 17335, dtype: int64\n"
     ]
    }
   ],
   "source": [
    "print(Y_test)"
   ]
  }
 ],
 "metadata": {
  "kernelspec": {
   "display_name": "Python 3 (ipykernel)",
   "language": "python",
   "name": "python3"
  },
  "language_info": {
   "codemirror_mode": {
    "name": "ipython",
    "version": 3
   },
   "file_extension": ".py",
   "mimetype": "text/x-python",
   "name": "python",
   "nbconvert_exporter": "python",
   "pygments_lexer": "ipython3",
   "version": "3.12.7"
  }
 },
 "nbformat": 4,
 "nbformat_minor": 5
}
