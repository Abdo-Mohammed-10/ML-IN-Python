{
 "cells": [
  {
   "cell_type": "markdown",
   "id": "35aa5612",
   "metadata": {},
   "source": [
    "<div style=\"text-align: center; padding: 20px; background-color: #f0f8ff; border-bottom: 2px solid #008cba;\">\n",
    "    <h1 style=\"font-size: 3em; color: #008cba;\">🌐 Diabetes_Prediction 🌐</h1>\n",
    "    <h2 style=\"font-size: 2em; color: #333;\">✨ Created By Abdulrahman Mohammed ✨</h2>\n",
    "</div>"
   ]
  },
  {
   "cell_type": "markdown",
   "id": "2de32032",
   "metadata": {},
   "source": [
    "<a id=\"Import\"></a>\n",
    "<p style=\"background-color: #008080; font-family: 'Arial', sans-serif; color: #FFFFFF; font-size:160%; text-align:center; padding: 15px 25px; margin-top: 25px; border: 4px solid #20B2AA; border-left: 15px solid #FF6347; border-right: none; border-top: none; border-bottom: none; box-shadow: 0px 5px 10px rgba(0, 0, 0, 0.2);\">Import Libs & Load dataset</p>"
   ]
  },
  {
   "cell_type": "code",
   "execution_count": 1,
   "id": "a04b6af9",
   "metadata": {},
   "outputs": [],
   "source": [
    "import numpy as np\n",
    "import pandas as pd\n",
    "import matplotlib.pyplot as plt\n",
    "import seaborn as sns\n",
    "from sklearn.preprocessing import LabelEncoder, StandardScaler\n",
    "from imblearn.over_sampling import SMOTE\n",
    "from sklearn.linear_model import LogisticRegression\n",
    "from sklearn.model_selection import train_test_split, GridSearchCV\n",
    "from sklearn.ensemble import RandomForestClassifier, GradientBoostingClassifier\n",
    "from sklearn.svm import SVC \n",
    "from sklearn import svm\n",
    "from sklearn.model_selection import RandomizedSearchCV\n",
    "from sklearn.metrics import accuracy_score, precision_score, recall_score, f1_score,confusion_matrix"
   ]
  },
  {
   "cell_type": "code",
   "execution_count": 2,
   "id": "276e9c46",
   "metadata": {},
   "outputs": [],
   "source": [
    "df= pd.read_csv('ckd_clean.csv')"
   ]
  },
  {
   "cell_type": "code",
   "execution_count": 3,
   "id": "e936aaf4",
   "metadata": {},
   "outputs": [
    {
     "data": {
      "text/plain": [
       "Age                              69.0\n",
       "Blood Pressure                   70.0\n",
       "Specific Gravity                 1.01\n",
       "Albumin                           3.0\n",
       "Sugar                             4.0\n",
       "Red Blood Cells                normal\n",
       "Pus Cell                     abnormal\n",
       "Pus Cell clumps            notpresent\n",
       "Bacteria                   notpresent\n",
       "Blood Glucose Random            264.0\n",
       "Blood Urea                       87.0\n",
       "Serum Creatinine                  2.7\n",
       "Sodium                          130.0\n",
       "Potassium                         4.0\n",
       "Hemoglobin                       12.5\n",
       "Packed Cell Volume               37.0\n",
       "White Blood Cell Count         9600.0\n",
       "Red Blood Cell Count              4.1\n",
       "Hypertension                      yes\n",
       "Diabetes Mellitus                 yes\n",
       "Coronary Artery Disease           yes\n",
       "Appetite                         good\n",
       "Pedal Edema                       yes\n",
       "Anemia                             no\n",
       "Class                               1\n",
       "Name: 6, dtype: object"
      ]
     },
     "execution_count": 3,
     "metadata": {},
     "output_type": "execute_result"
    }
   ],
   "source": [
    "df.loc[6]"
   ]
  },
  {
   "cell_type": "markdown",
   "id": "e0cbb2d3",
   "metadata": {},
   "source": [
    "<a id=\"Import\"></a>\n",
    "<p style=\"background-color: #008080; font-family: 'Arial', sans-serif; color: #FFFFFF; font-size:160%; text-align:center; padding: 15px 25px; margin-top: 25px; border: 4px solid #20B2AA; border-left: 15px solid #FF6347; border-right: none; border-top: none; border-bottom: none; box-shadow: 0px 5px 10px rgba(0, 0, 0, 0.2);\">2. Data Preproccessing</p>"
   ]
  },
  {
   "cell_type": "code",
   "execution_count": 4,
   "id": "b0d8702f-f96f-4512-b1f9-54a508e8e8a4",
   "metadata": {},
   "outputs": [
    {
     "data": {
      "text/plain": [
       "Index(['Age', 'Blood Pressure', 'Specific Gravity', 'Albumin', 'Sugar',\n",
       "       'Red Blood Cells', 'Pus Cell', 'Pus Cell clumps', 'Bacteria',\n",
       "       'Blood Glucose Random', 'Blood Urea', 'Serum Creatinine', 'Sodium',\n",
       "       'Potassium', 'Hemoglobin', 'Packed Cell Volume',\n",
       "       'White Blood Cell Count', 'Red Blood Cell Count', 'Hypertension',\n",
       "       'Diabetes Mellitus', 'Coronary Artery Disease', 'Appetite',\n",
       "       'Pedal Edema', 'Anemia', 'Class'],\n",
       "      dtype='object')"
      ]
     },
     "execution_count": 4,
     "metadata": {},
     "output_type": "execute_result"
    }
   ],
   "source": [
    "df.columns"
   ]
  },
  {
   "cell_type": "code",
   "execution_count": 5,
   "id": "c358b46e",
   "metadata": {},
   "outputs": [
    {
     "data": {
      "text/plain": [
       "(158, 25)"
      ]
     },
     "execution_count": 5,
     "metadata": {},
     "output_type": "execute_result"
    }
   ],
   "source": [
    "df.shape"
   ]
  },
  {
   "cell_type": "code",
   "execution_count": 6,
   "id": "965fd527",
   "metadata": {},
   "outputs": [
    {
     "name": "stdout",
     "output_type": "stream",
     "text": [
      "<class 'pandas.core.frame.DataFrame'>\n",
      "RangeIndex: 158 entries, 0 to 157\n",
      "Data columns (total 25 columns):\n",
      " #   Column                   Non-Null Count  Dtype  \n",
      "---  ------                   --------------  -----  \n",
      " 0   Age                      158 non-null    float64\n",
      " 1   Blood Pressure           158 non-null    float64\n",
      " 2   Specific Gravity         158 non-null    float64\n",
      " 3   Albumin                  158 non-null    float64\n",
      " 4   Sugar                    158 non-null    float64\n",
      " 5   Red Blood Cells          158 non-null    object \n",
      " 6   Pus Cell                 158 non-null    object \n",
      " 7   Pus Cell clumps          158 non-null    object \n",
      " 8   Bacteria                 158 non-null    object \n",
      " 9   Blood Glucose Random     158 non-null    float64\n",
      " 10  Blood Urea               158 non-null    float64\n",
      " 11  Serum Creatinine         158 non-null    float64\n",
      " 12  Sodium                   158 non-null    float64\n",
      " 13  Potassium                158 non-null    float64\n",
      " 14  Hemoglobin               158 non-null    float64\n",
      " 15  Packed Cell Volume       158 non-null    float64\n",
      " 16  White Blood Cell Count   158 non-null    float64\n",
      " 17  Red Blood Cell Count     158 non-null    float64\n",
      " 18  Hypertension             158 non-null    object \n",
      " 19  Diabetes Mellitus        158 non-null    object \n",
      " 20  Coronary Artery Disease  158 non-null    object \n",
      " 21  Appetite                 158 non-null    object \n",
      " 22  Pedal Edema              158 non-null    object \n",
      " 23  Anemia                   158 non-null    object \n",
      " 24  Class                    158 non-null    int64  \n",
      "dtypes: float64(14), int64(1), object(10)\n",
      "memory usage: 31.0+ KB\n"
     ]
    }
   ],
   "source": [
    "df.info()"
   ]
  },
  {
   "cell_type": "code",
   "execution_count": 7,
   "id": "173d25eb-55d0-4398-a38e-dec9e87c6495",
   "metadata": {},
   "outputs": [
    {
     "data": {
      "text/plain": [
       "Age                        0\n",
       "Blood Pressure             0\n",
       "Specific Gravity           0\n",
       "Albumin                    0\n",
       "Sugar                      0\n",
       "Red Blood Cells            0\n",
       "Pus Cell                   0\n",
       "Pus Cell clumps            0\n",
       "Bacteria                   0\n",
       "Blood Glucose Random       0\n",
       "Blood Urea                 0\n",
       "Serum Creatinine           0\n",
       "Sodium                     0\n",
       "Potassium                  0\n",
       "Hemoglobin                 0\n",
       "Packed Cell Volume         0\n",
       "White Blood Cell Count     0\n",
       "Red Blood Cell Count       0\n",
       "Hypertension               0\n",
       "Diabetes Mellitus          0\n",
       "Coronary Artery Disease    0\n",
       "Appetite                   0\n",
       "Pedal Edema                0\n",
       "Anemia                     0\n",
       "Class                      0\n",
       "dtype: int64"
      ]
     },
     "execution_count": 7,
     "metadata": {},
     "output_type": "execute_result"
    }
   ],
   "source": [
    "df.isnull().sum()"
   ]
  },
  {
   "cell_type": "code",
   "execution_count": 8,
   "id": "a7e07132",
   "metadata": {},
   "outputs": [
    {
     "data": {
      "text/plain": [
       "Class\n",
       "0    115\n",
       "1     43\n",
       "Name: count, dtype: int64"
      ]
     },
     "execution_count": 8,
     "metadata": {},
     "output_type": "execute_result"
    }
   ],
   "source": [
    "df['Class'].value_counts()"
   ]
  },
  {
   "cell_type": "markdown",
   "id": "4260f7e1",
   "metadata": {},
   "source": [
    "### 0 = Chronic kidney disease - Negative\n",
    "\n",
    "### 1 = Chronic kidney disease + Positive"
   ]
  },
  {
   "cell_type": "code",
   "execution_count": 9,
   "id": "c78c8daa",
   "metadata": {},
   "outputs": [
    {
     "data": {
      "text/html": [
       "<div>\n",
       "<style scoped>\n",
       "    .dataframe tbody tr th:only-of-type {\n",
       "        vertical-align: middle;\n",
       "    }\n",
       "\n",
       "    .dataframe tbody tr th {\n",
       "        vertical-align: top;\n",
       "    }\n",
       "\n",
       "    .dataframe thead th {\n",
       "        text-align: right;\n",
       "    }\n",
       "</style>\n",
       "<table border=\"1\" class=\"dataframe\">\n",
       "  <thead>\n",
       "    <tr style=\"text-align: right;\">\n",
       "      <th></th>\n",
       "      <th>Age</th>\n",
       "      <th>Blood Pressure</th>\n",
       "      <th>Specific Gravity</th>\n",
       "      <th>Albumin</th>\n",
       "      <th>Sugar</th>\n",
       "      <th>Blood Glucose Random</th>\n",
       "      <th>Blood Urea</th>\n",
       "      <th>Serum Creatinine</th>\n",
       "      <th>Sodium</th>\n",
       "      <th>Potassium</th>\n",
       "      <th>Hemoglobin</th>\n",
       "      <th>Packed Cell Volume</th>\n",
       "      <th>White Blood Cell Count</th>\n",
       "      <th>Red Blood Cell Count</th>\n",
       "      <th>Class</th>\n",
       "    </tr>\n",
       "  </thead>\n",
       "  <tbody>\n",
       "    <tr>\n",
       "      <th>count</th>\n",
       "      <td>158.000000</td>\n",
       "      <td>158.000000</td>\n",
       "      <td>158.000000</td>\n",
       "      <td>158.000000</td>\n",
       "      <td>158.000000</td>\n",
       "      <td>158.000000</td>\n",
       "      <td>158.000000</td>\n",
       "      <td>158.000000</td>\n",
       "      <td>158.000000</td>\n",
       "      <td>158.000000</td>\n",
       "      <td>158.000000</td>\n",
       "      <td>158.000000</td>\n",
       "      <td>158.000000</td>\n",
       "      <td>158.000000</td>\n",
       "      <td>158.000000</td>\n",
       "    </tr>\n",
       "    <tr>\n",
       "      <th>mean</th>\n",
       "      <td>49.563291</td>\n",
       "      <td>74.050633</td>\n",
       "      <td>1.019873</td>\n",
       "      <td>0.797468</td>\n",
       "      <td>0.253165</td>\n",
       "      <td>131.341772</td>\n",
       "      <td>52.575949</td>\n",
       "      <td>2.188608</td>\n",
       "      <td>138.848101</td>\n",
       "      <td>4.636709</td>\n",
       "      <td>13.687342</td>\n",
       "      <td>41.917722</td>\n",
       "      <td>8475.949367</td>\n",
       "      <td>4.891772</td>\n",
       "      <td>0.272152</td>\n",
       "    </tr>\n",
       "    <tr>\n",
       "      <th>std</th>\n",
       "      <td>15.512244</td>\n",
       "      <td>11.175381</td>\n",
       "      <td>0.005499</td>\n",
       "      <td>1.413130</td>\n",
       "      <td>0.813397</td>\n",
       "      <td>64.939832</td>\n",
       "      <td>47.395382</td>\n",
       "      <td>3.077615</td>\n",
       "      <td>7.489421</td>\n",
       "      <td>3.476351</td>\n",
       "      <td>2.882204</td>\n",
       "      <td>9.105164</td>\n",
       "      <td>3126.880181</td>\n",
       "      <td>1.019364</td>\n",
       "      <td>0.446483</td>\n",
       "    </tr>\n",
       "    <tr>\n",
       "      <th>min</th>\n",
       "      <td>6.000000</td>\n",
       "      <td>50.000000</td>\n",
       "      <td>1.005000</td>\n",
       "      <td>0.000000</td>\n",
       "      <td>0.000000</td>\n",
       "      <td>70.000000</td>\n",
       "      <td>10.000000</td>\n",
       "      <td>0.400000</td>\n",
       "      <td>111.000000</td>\n",
       "      <td>2.500000</td>\n",
       "      <td>3.100000</td>\n",
       "      <td>9.000000</td>\n",
       "      <td>3800.000000</td>\n",
       "      <td>2.100000</td>\n",
       "      <td>0.000000</td>\n",
       "    </tr>\n",
       "    <tr>\n",
       "      <th>25%</th>\n",
       "      <td>39.250000</td>\n",
       "      <td>60.000000</td>\n",
       "      <td>1.020000</td>\n",
       "      <td>0.000000</td>\n",
       "      <td>0.000000</td>\n",
       "      <td>97.000000</td>\n",
       "      <td>26.000000</td>\n",
       "      <td>0.700000</td>\n",
       "      <td>135.000000</td>\n",
       "      <td>3.700000</td>\n",
       "      <td>12.600000</td>\n",
       "      <td>37.500000</td>\n",
       "      <td>6525.000000</td>\n",
       "      <td>4.500000</td>\n",
       "      <td>0.000000</td>\n",
       "    </tr>\n",
       "    <tr>\n",
       "      <th>50%</th>\n",
       "      <td>50.500000</td>\n",
       "      <td>80.000000</td>\n",
       "      <td>1.020000</td>\n",
       "      <td>0.000000</td>\n",
       "      <td>0.000000</td>\n",
       "      <td>115.500000</td>\n",
       "      <td>39.500000</td>\n",
       "      <td>1.100000</td>\n",
       "      <td>139.000000</td>\n",
       "      <td>4.500000</td>\n",
       "      <td>14.250000</td>\n",
       "      <td>44.000000</td>\n",
       "      <td>7800.000000</td>\n",
       "      <td>4.950000</td>\n",
       "      <td>0.000000</td>\n",
       "    </tr>\n",
       "    <tr>\n",
       "      <th>75%</th>\n",
       "      <td>60.000000</td>\n",
       "      <td>80.000000</td>\n",
       "      <td>1.025000</td>\n",
       "      <td>1.000000</td>\n",
       "      <td>0.000000</td>\n",
       "      <td>131.750000</td>\n",
       "      <td>49.750000</td>\n",
       "      <td>1.600000</td>\n",
       "      <td>144.000000</td>\n",
       "      <td>4.900000</td>\n",
       "      <td>15.775000</td>\n",
       "      <td>48.000000</td>\n",
       "      <td>9775.000000</td>\n",
       "      <td>5.600000</td>\n",
       "      <td>1.000000</td>\n",
       "    </tr>\n",
       "    <tr>\n",
       "      <th>max</th>\n",
       "      <td>83.000000</td>\n",
       "      <td>110.000000</td>\n",
       "      <td>1.025000</td>\n",
       "      <td>4.000000</td>\n",
       "      <td>5.000000</td>\n",
       "      <td>490.000000</td>\n",
       "      <td>309.000000</td>\n",
       "      <td>15.200000</td>\n",
       "      <td>150.000000</td>\n",
       "      <td>47.000000</td>\n",
       "      <td>17.800000</td>\n",
       "      <td>54.000000</td>\n",
       "      <td>26400.000000</td>\n",
       "      <td>8.000000</td>\n",
       "      <td>1.000000</td>\n",
       "    </tr>\n",
       "  </tbody>\n",
       "</table>\n",
       "</div>"
      ],
      "text/plain": [
       "              Age  Blood Pressure  Specific Gravity     Albumin       Sugar  \\\n",
       "count  158.000000      158.000000        158.000000  158.000000  158.000000   \n",
       "mean    49.563291       74.050633          1.019873    0.797468    0.253165   \n",
       "std     15.512244       11.175381          0.005499    1.413130    0.813397   \n",
       "min      6.000000       50.000000          1.005000    0.000000    0.000000   \n",
       "25%     39.250000       60.000000          1.020000    0.000000    0.000000   \n",
       "50%     50.500000       80.000000          1.020000    0.000000    0.000000   \n",
       "75%     60.000000       80.000000          1.025000    1.000000    0.000000   \n",
       "max     83.000000      110.000000          1.025000    4.000000    5.000000   \n",
       "\n",
       "       Blood Glucose Random  Blood Urea  Serum Creatinine      Sodium  \\\n",
       "count            158.000000  158.000000        158.000000  158.000000   \n",
       "mean             131.341772   52.575949          2.188608  138.848101   \n",
       "std               64.939832   47.395382          3.077615    7.489421   \n",
       "min               70.000000   10.000000          0.400000  111.000000   \n",
       "25%               97.000000   26.000000          0.700000  135.000000   \n",
       "50%              115.500000   39.500000          1.100000  139.000000   \n",
       "75%              131.750000   49.750000          1.600000  144.000000   \n",
       "max              490.000000  309.000000         15.200000  150.000000   \n",
       "\n",
       "        Potassium  Hemoglobin  Packed Cell Volume  White Blood Cell Count  \\\n",
       "count  158.000000  158.000000          158.000000              158.000000   \n",
       "mean     4.636709   13.687342           41.917722             8475.949367   \n",
       "std      3.476351    2.882204            9.105164             3126.880181   \n",
       "min      2.500000    3.100000            9.000000             3800.000000   \n",
       "25%      3.700000   12.600000           37.500000             6525.000000   \n",
       "50%      4.500000   14.250000           44.000000             7800.000000   \n",
       "75%      4.900000   15.775000           48.000000             9775.000000   \n",
       "max     47.000000   17.800000           54.000000            26400.000000   \n",
       "\n",
       "       Red Blood Cell Count       Class  \n",
       "count            158.000000  158.000000  \n",
       "mean               4.891772    0.272152  \n",
       "std                1.019364    0.446483  \n",
       "min                2.100000    0.000000  \n",
       "25%                4.500000    0.000000  \n",
       "50%                4.950000    0.000000  \n",
       "75%                5.600000    1.000000  \n",
       "max                8.000000    1.000000  "
      ]
     },
     "execution_count": 9,
     "metadata": {},
     "output_type": "execute_result"
    }
   ],
   "source": [
    "df.describe()"
   ]
  },
  {
   "cell_type": "code",
   "execution_count": 10,
   "id": "3e3b99b2",
   "metadata": {},
   "outputs": [
    {
     "name": "stdout",
     "output_type": "stream",
     "text": [
      "Number of duplicate rows: 0\n"
     ]
    }
   ],
   "source": [
    "# check of duplicated row\n",
    "duplicate_count=df.duplicated().sum()\n",
    "print(f\"Number of duplicate rows: {duplicate_count}\")"
   ]
  },
  {
   "cell_type": "code",
   "execution_count": 11,
   "id": "1a4a6381-bd3c-4f9f-bb02-3be31c427003",
   "metadata": {},
   "outputs": [
    {
     "data": {
      "text/html": [
       "<div>\n",
       "<style scoped>\n",
       "    .dataframe tbody tr th:only-of-type {\n",
       "        vertical-align: middle;\n",
       "    }\n",
       "\n",
       "    .dataframe tbody tr th {\n",
       "        vertical-align: top;\n",
       "    }\n",
       "\n",
       "    .dataframe thead th {\n",
       "        text-align: right;\n",
       "    }\n",
       "</style>\n",
       "<table border=\"1\" class=\"dataframe\">\n",
       "  <thead>\n",
       "    <tr style=\"text-align: right;\">\n",
       "      <th></th>\n",
       "      <th>Red Blood Cells</th>\n",
       "      <th>Pus Cell</th>\n",
       "      <th>Hypertension</th>\n",
       "      <th>Diabetes Mellitus</th>\n",
       "      <th>Anemia</th>\n",
       "    </tr>\n",
       "  </thead>\n",
       "  <tbody>\n",
       "    <tr>\n",
       "      <th>0</th>\n",
       "      <td>normal</td>\n",
       "      <td>abnormal</td>\n",
       "      <td>yes</td>\n",
       "      <td>no</td>\n",
       "      <td>yes</td>\n",
       "    </tr>\n",
       "  </tbody>\n",
       "</table>\n",
       "</div>"
      ],
      "text/plain": [
       "  Red Blood Cells  Pus Cell Hypertension Diabetes Mellitus Anemia\n",
       "0          normal  abnormal          yes                no    yes"
      ]
     },
     "execution_count": 11,
     "metadata": {},
     "output_type": "execute_result"
    }
   ],
   "source": [
    "categorical_columns = [\n",
    "    'Red Blood Cells', 'Pus Cell',\n",
    "    'Hypertension', 'Diabetes Mellitus',\n",
    "    'Anemia'\n",
    "]\n",
    "df[categorical_columns].head(1)"
   ]
  },
  {
   "cell_type": "code",
   "execution_count": 12,
   "id": "fe9d1909-90a3-4027-859f-e8ed821fca47",
   "metadata": {},
   "outputs": [
    {
     "name": "stdout",
     "output_type": "stream",
     "text": [
      "['normal' 'abnormal']\n",
      "['abnormal' 'normal']\n",
      "['yes' 'no']\n",
      "['no' 'yes']\n",
      "['yes' 'no']\n"
     ]
    }
   ],
   "source": [
    "for column in categorical_columns:\n",
    "    print(df[column].unique())"
   ]
  },
  {
   "cell_type": "markdown",
   "id": "3f792d57-0ec3-4811-9183-226879076823",
   "metadata": {},
   "source": [
    "## Label Encoding"
   ]
  },
  {
   "cell_type": "code",
   "execution_count": 13,
   "id": "3dc82727-aa18-4dfa-b82f-e0157c10477f",
   "metadata": {},
   "outputs": [
    {
     "data": {
      "text/html": [
       "<div>\n",
       "<style scoped>\n",
       "    .dataframe tbody tr th:only-of-type {\n",
       "        vertical-align: middle;\n",
       "    }\n",
       "\n",
       "    .dataframe tbody tr th {\n",
       "        vertical-align: top;\n",
       "    }\n",
       "\n",
       "    .dataframe thead th {\n",
       "        text-align: right;\n",
       "    }\n",
       "</style>\n",
       "<table border=\"1\" class=\"dataframe\">\n",
       "  <thead>\n",
       "    <tr style=\"text-align: right;\">\n",
       "      <th></th>\n",
       "      <th>Red Blood Cells</th>\n",
       "      <th>Pus Cell</th>\n",
       "      <th>Hypertension</th>\n",
       "      <th>Diabetes Mellitus</th>\n",
       "      <th>Anemia</th>\n",
       "    </tr>\n",
       "  </thead>\n",
       "  <tbody>\n",
       "    <tr>\n",
       "      <th>0</th>\n",
       "      <td>1</td>\n",
       "      <td>0</td>\n",
       "      <td>1</td>\n",
       "      <td>0</td>\n",
       "      <td>1</td>\n",
       "    </tr>\n",
       "  </tbody>\n",
       "</table>\n",
       "</div>"
      ],
      "text/plain": [
       "   Red Blood Cells  Pus Cell  Hypertension  Diabetes Mellitus  Anemia\n",
       "0                1         0             1                  0       1"
      ]
     },
     "execution_count": 13,
     "metadata": {},
     "output_type": "execute_result"
    }
   ],
   "source": [
    "le = LabelEncoder()\n",
    "df[ 'Red Blood Cells'] = le.fit_transform(df['Red Blood Cells'])\n",
    "df[ 'Pus Cell'] = le.fit_transform(df['Pus Cell'])\n",
    "df[ 'Hypertension'] = le.fit_transform(df['Hypertension'])\n",
    "df[ 'Diabetes Mellitus'] = le.fit_transform(df['Diabetes Mellitus'])\n",
    "df[ 'Anemia'] = le.fit_transform(df['Anemia'])\n",
    "df[categorical_columns].head(1)"
   ]
  },
  {
   "cell_type": "code",
   "execution_count": 14,
   "id": "f6481652-9e7a-4eec-b74a-32b474b09e7d",
   "metadata": {},
   "outputs": [],
   "source": [
    "mapping ={1:0,0:1}\n",
    "df[ 'Red Blood Cells']=df[ 'Red Blood Cells'].map(mapping)\n",
    "df[ 'Pus Cell']=df[ 'Pus Cell'].map(mapping)"
   ]
  },
  {
   "cell_type": "code",
   "execution_count": 15,
   "id": "6b57006d-d536-460e-9ac5-b2c13b552bd4",
   "metadata": {},
   "outputs": [
    {
     "data": {
      "text/html": [
       "<div>\n",
       "<style scoped>\n",
       "    .dataframe tbody tr th:only-of-type {\n",
       "        vertical-align: middle;\n",
       "    }\n",
       "\n",
       "    .dataframe tbody tr th {\n",
       "        vertical-align: top;\n",
       "    }\n",
       "\n",
       "    .dataframe thead th {\n",
       "        text-align: right;\n",
       "    }\n",
       "</style>\n",
       "<table border=\"1\" class=\"dataframe\">\n",
       "  <thead>\n",
       "    <tr style=\"text-align: right;\">\n",
       "      <th></th>\n",
       "      <th>Red Blood Cells</th>\n",
       "      <th>Pus Cell</th>\n",
       "      <th>Hypertension</th>\n",
       "      <th>Diabetes Mellitus</th>\n",
       "      <th>Anemia</th>\n",
       "    </tr>\n",
       "  </thead>\n",
       "  <tbody>\n",
       "    <tr>\n",
       "      <th>0</th>\n",
       "      <td>0</td>\n",
       "      <td>1</td>\n",
       "      <td>1</td>\n",
       "      <td>0</td>\n",
       "      <td>1</td>\n",
       "    </tr>\n",
       "  </tbody>\n",
       "</table>\n",
       "</div>"
      ],
      "text/plain": [
       "   Red Blood Cells  Pus Cell  Hypertension  Diabetes Mellitus  Anemia\n",
       "0                0         1             1                  0       1"
      ]
     },
     "execution_count": 15,
     "metadata": {},
     "output_type": "execute_result"
    }
   ],
   "source": [
    "df[categorical_columns].head(1)"
   ]
  },
  {
   "cell_type": "markdown",
   "id": "9c45b98a-e97e-4f86-bbfb-2dcde87d18fb",
   "metadata": {
    "jp-MarkdownHeadingCollapsed": true
   },
   "source": [
    "### normal --> 0\n",
    "### upnormal --> 1\n",
    "### yes --> 1\n",
    "### no --> 0"
   ]
  },
  {
   "cell_type": "markdown",
   "id": "6b34c196",
   "metadata": {},
   "source": [
    "### Seperate Labels"
   ]
  },
  {
   "cell_type": "code",
   "execution_count": 16,
   "id": "2dd4f169",
   "metadata": {},
   "outputs": [],
   "source": [
    "X=df.drop(['Age', 'Blood Pressure','Sugar','Pus Cell clumps', 'Bacteria',\n",
    "       'Blood Glucose Random','White Blood Cell Count', 'Red Blood Cell Count','Coronary Artery Disease', 'Appetite',\n",
    "       'Pedal Edema', 'Class'],axis=1)\n",
    "Y=df['Class']"
   ]
  },
  {
   "cell_type": "code",
   "execution_count": 17,
   "id": "cd3e0880",
   "metadata": {},
   "outputs": [
    {
     "data": {
      "text/html": [
       "<div>\n",
       "<style scoped>\n",
       "    .dataframe tbody tr th:only-of-type {\n",
       "        vertical-align: middle;\n",
       "    }\n",
       "\n",
       "    .dataframe tbody tr th {\n",
       "        vertical-align: top;\n",
       "    }\n",
       "\n",
       "    .dataframe thead th {\n",
       "        text-align: right;\n",
       "    }\n",
       "</style>\n",
       "<table border=\"1\" class=\"dataframe\">\n",
       "  <thead>\n",
       "    <tr style=\"text-align: right;\">\n",
       "      <th></th>\n",
       "      <th>Specific Gravity</th>\n",
       "      <th>Albumin</th>\n",
       "      <th>Red Blood Cells</th>\n",
       "      <th>Pus Cell</th>\n",
       "      <th>Blood Urea</th>\n",
       "      <th>Serum Creatinine</th>\n",
       "      <th>Sodium</th>\n",
       "      <th>Potassium</th>\n",
       "      <th>Hemoglobin</th>\n",
       "      <th>Packed Cell Volume</th>\n",
       "      <th>Hypertension</th>\n",
       "      <th>Diabetes Mellitus</th>\n",
       "      <th>Anemia</th>\n",
       "    </tr>\n",
       "  </thead>\n",
       "  <tbody>\n",
       "    <tr>\n",
       "      <th>0</th>\n",
       "      <td>1.005</td>\n",
       "      <td>4.0</td>\n",
       "      <td>0</td>\n",
       "      <td>1</td>\n",
       "      <td>56.0</td>\n",
       "      <td>3.8</td>\n",
       "      <td>111.0</td>\n",
       "      <td>2.5</td>\n",
       "      <td>11.2</td>\n",
       "      <td>32.0</td>\n",
       "      <td>1</td>\n",
       "      <td>0</td>\n",
       "      <td>1</td>\n",
       "    </tr>\n",
       "    <tr>\n",
       "      <th>1</th>\n",
       "      <td>1.020</td>\n",
       "      <td>2.0</td>\n",
       "      <td>1</td>\n",
       "      <td>1</td>\n",
       "      <td>107.0</td>\n",
       "      <td>7.2</td>\n",
       "      <td>114.0</td>\n",
       "      <td>3.7</td>\n",
       "      <td>9.5</td>\n",
       "      <td>29.0</td>\n",
       "      <td>1</td>\n",
       "      <td>1</td>\n",
       "      <td>1</td>\n",
       "    </tr>\n",
       "    <tr>\n",
       "      <th>2</th>\n",
       "      <td>1.010</td>\n",
       "      <td>3.0</td>\n",
       "      <td>1</td>\n",
       "      <td>1</td>\n",
       "      <td>60.0</td>\n",
       "      <td>2.7</td>\n",
       "      <td>131.0</td>\n",
       "      <td>4.2</td>\n",
       "      <td>10.8</td>\n",
       "      <td>32.0</td>\n",
       "      <td>1</td>\n",
       "      <td>1</td>\n",
       "      <td>0</td>\n",
       "    </tr>\n",
       "    <tr>\n",
       "      <th>3</th>\n",
       "      <td>1.010</td>\n",
       "      <td>3.0</td>\n",
       "      <td>0</td>\n",
       "      <td>1</td>\n",
       "      <td>90.0</td>\n",
       "      <td>4.1</td>\n",
       "      <td>130.0</td>\n",
       "      <td>6.4</td>\n",
       "      <td>5.6</td>\n",
       "      <td>16.0</td>\n",
       "      <td>1</td>\n",
       "      <td>1</td>\n",
       "      <td>0</td>\n",
       "    </tr>\n",
       "    <tr>\n",
       "      <th>4</th>\n",
       "      <td>1.015</td>\n",
       "      <td>2.0</td>\n",
       "      <td>1</td>\n",
       "      <td>1</td>\n",
       "      <td>148.0</td>\n",
       "      <td>3.9</td>\n",
       "      <td>135.0</td>\n",
       "      <td>5.2</td>\n",
       "      <td>7.7</td>\n",
       "      <td>24.0</td>\n",
       "      <td>1</td>\n",
       "      <td>1</td>\n",
       "      <td>1</td>\n",
       "    </tr>\n",
       "    <tr>\n",
       "      <th>5</th>\n",
       "      <td>1.025</td>\n",
       "      <td>4.0</td>\n",
       "      <td>0</td>\n",
       "      <td>1</td>\n",
       "      <td>163.0</td>\n",
       "      <td>7.7</td>\n",
       "      <td>136.0</td>\n",
       "      <td>3.8</td>\n",
       "      <td>9.8</td>\n",
       "      <td>32.0</td>\n",
       "      <td>1</td>\n",
       "      <td>0</td>\n",
       "      <td>1</td>\n",
       "    </tr>\n",
       "    <tr>\n",
       "      <th>6</th>\n",
       "      <td>1.010</td>\n",
       "      <td>3.0</td>\n",
       "      <td>0</td>\n",
       "      <td>1</td>\n",
       "      <td>87.0</td>\n",
       "      <td>2.7</td>\n",
       "      <td>130.0</td>\n",
       "      <td>4.0</td>\n",
       "      <td>12.5</td>\n",
       "      <td>37.0</td>\n",
       "      <td>1</td>\n",
       "      <td>1</td>\n",
       "      <td>0</td>\n",
       "    </tr>\n",
       "    <tr>\n",
       "      <th>7</th>\n",
       "      <td>1.005</td>\n",
       "      <td>0.0</td>\n",
       "      <td>0</td>\n",
       "      <td>0</td>\n",
       "      <td>32.0</td>\n",
       "      <td>0.9</td>\n",
       "      <td>125.0</td>\n",
       "      <td>4.0</td>\n",
       "      <td>10.0</td>\n",
       "      <td>29.0</td>\n",
       "      <td>1</td>\n",
       "      <td>1</td>\n",
       "      <td>0</td>\n",
       "    </tr>\n",
       "    <tr>\n",
       "      <th>8</th>\n",
       "      <td>1.020</td>\n",
       "      <td>2.0</td>\n",
       "      <td>1</td>\n",
       "      <td>1</td>\n",
       "      <td>142.0</td>\n",
       "      <td>4.6</td>\n",
       "      <td>138.0</td>\n",
       "      <td>5.8</td>\n",
       "      <td>10.5</td>\n",
       "      <td>33.0</td>\n",
       "      <td>1</td>\n",
       "      <td>1</td>\n",
       "      <td>0</td>\n",
       "    </tr>\n",
       "    <tr>\n",
       "      <th>9</th>\n",
       "      <td>1.010</td>\n",
       "      <td>1.0</td>\n",
       "      <td>0</td>\n",
       "      <td>0</td>\n",
       "      <td>92.0</td>\n",
       "      <td>3.3</td>\n",
       "      <td>141.0</td>\n",
       "      <td>4.0</td>\n",
       "      <td>9.8</td>\n",
       "      <td>28.0</td>\n",
       "      <td>1</td>\n",
       "      <td>1</td>\n",
       "      <td>0</td>\n",
       "    </tr>\n",
       "  </tbody>\n",
       "</table>\n",
       "</div>"
      ],
      "text/plain": [
       "   Specific Gravity  Albumin  Red Blood Cells  Pus Cell  Blood Urea  \\\n",
       "0             1.005      4.0                0         1        56.0   \n",
       "1             1.020      2.0                1         1       107.0   \n",
       "2             1.010      3.0                1         1        60.0   \n",
       "3             1.010      3.0                0         1        90.0   \n",
       "4             1.015      2.0                1         1       148.0   \n",
       "5             1.025      4.0                0         1       163.0   \n",
       "6             1.010      3.0                0         1        87.0   \n",
       "7             1.005      0.0                0         0        32.0   \n",
       "8             1.020      2.0                1         1       142.0   \n",
       "9             1.010      1.0                0         0        92.0   \n",
       "\n",
       "   Serum Creatinine  Sodium  Potassium  Hemoglobin  Packed Cell Volume  \\\n",
       "0               3.8   111.0        2.5        11.2                32.0   \n",
       "1               7.2   114.0        3.7         9.5                29.0   \n",
       "2               2.7   131.0        4.2        10.8                32.0   \n",
       "3               4.1   130.0        6.4         5.6                16.0   \n",
       "4               3.9   135.0        5.2         7.7                24.0   \n",
       "5               7.7   136.0        3.8         9.8                32.0   \n",
       "6               2.7   130.0        4.0        12.5                37.0   \n",
       "7               0.9   125.0        4.0        10.0                29.0   \n",
       "8               4.6   138.0        5.8        10.5                33.0   \n",
       "9               3.3   141.0        4.0         9.8                28.0   \n",
       "\n",
       "   Hypertension  Diabetes Mellitus  Anemia  \n",
       "0             1                  0       1  \n",
       "1             1                  1       1  \n",
       "2             1                  1       0  \n",
       "3             1                  1       0  \n",
       "4             1                  1       1  \n",
       "5             1                  0       1  \n",
       "6             1                  1       0  \n",
       "7             1                  1       0  \n",
       "8             1                  1       0  \n",
       "9             1                  1       0  "
      ]
     },
     "execution_count": 17,
     "metadata": {},
     "output_type": "execute_result"
    }
   ],
   "source": [
    "X.head(10)"
   ]
  },
  {
   "cell_type": "code",
   "execution_count": 18,
   "id": "5f4c28b5",
   "metadata": {},
   "outputs": [
    {
     "data": {
      "text/plain": [
       "0      1\n",
       "1      1\n",
       "2      1\n",
       "3      1\n",
       "4      1\n",
       "      ..\n",
       "153    0\n",
       "154    0\n",
       "155    0\n",
       "156    0\n",
       "157    0\n",
       "Name: Class, Length: 158, dtype: int64"
      ]
     },
     "execution_count": 18,
     "metadata": {},
     "output_type": "execute_result"
    }
   ],
   "source": [
    "Y"
   ]
  },
  {
   "cell_type": "markdown",
   "id": "4641a7d2",
   "metadata": {},
   "source": [
    "<a id=\"Import\"></a>\n",
    "<p style=\"background-color: #008080; font-family: 'Arial', sans-serif; color: #FFFFFF; font-size:160%; text-align:center; padding: 15px 25px; margin-top: 25px; border: 4px solid #20B2AA; border-left: 15px solid #FF6347; border-right: none; border-top: none; border-bottom: none; box-shadow: 0px 5px 10px rgba(0, 0, 0, 0.2);\">3. Data Standardization</p>"
   ]
  },
  {
   "cell_type": "code",
   "execution_count": 19,
   "id": "4b2bc744",
   "metadata": {},
   "outputs": [],
   "source": [
    "scaler= StandardScaler()\n",
    "X=scaler.fit_transform(X)"
   ]
  },
  {
   "cell_type": "code",
   "execution_count": 20,
   "id": "fd4f9782",
   "metadata": {},
   "outputs": [
    {
     "data": {
      "text/plain": [
       "array([[-2.71336538,  2.2734743 , -0.35856858, ...,  1.90972742,\n",
       "        -0.46409548,  2.97909382],\n",
       "       [ 0.02309247,  0.85367612,  2.78886676, ...,  1.90972742,\n",
       "         2.15472902,  2.97909382],\n",
       "       [-1.80121276,  1.56357521,  2.78886676, ...,  1.90972742,\n",
       "         2.15472902, -0.33567254],\n",
       "       ...,\n",
       "       [ 0.02309247, -0.56612206, -0.35856858, ..., -0.52363494,\n",
       "        -0.46409548, -0.33567254],\n",
       "       [ 0.93524509, -0.56612206, -0.35856858, ..., -0.52363494,\n",
       "        -0.46409548, -0.33567254],\n",
       "       [ 0.93524509, -0.56612206, -0.35856858, ..., -0.52363494,\n",
       "        -0.46409548, -0.33567254]])"
      ]
     },
     "execution_count": 20,
     "metadata": {},
     "output_type": "execute_result"
    }
   ],
   "source": [
    "X"
   ]
  },
  {
   "cell_type": "code",
   "execution_count": 21,
   "id": "d709dddc",
   "metadata": {},
   "outputs": [
    {
     "name": "stdout",
     "output_type": "stream",
     "text": [
      "0      1\n",
      "1      1\n",
      "2      1\n",
      "3      1\n",
      "4      1\n",
      "      ..\n",
      "153    0\n",
      "154    0\n",
      "155    0\n",
      "156    0\n",
      "157    0\n",
      "Name: Class, Length: 158, dtype: int64\n"
     ]
    }
   ],
   "source": [
    "print(Y)"
   ]
  },
  {
   "cell_type": "markdown",
   "id": "3d873ff6",
   "metadata": {},
   "source": [
    "<a id=\"Import\"></a>\n",
    "<p style=\"background-color: #008080; font-family: 'Arial', sans-serif; color: #FFFFFF; font-size:160%; text-align:center; padding: 15px 25px; margin-top: 25px; border: 4px solid #20B2AA; border-left: 15px solid #FF6347; border-right: none; border-top: none; border-bottom: none; box-shadow: 0px 5px 10px rgba(0, 0, 0, 0.2);\">4. Train Test Split</p>"
   ]
  },
  {
   "cell_type": "code",
   "execution_count": 22,
   "id": "5289ef14",
   "metadata": {},
   "outputs": [],
   "source": [
    "X_train,X_test,Y_train,Y_test=train_test_split(X,Y,test_size=0.2,random_state=42)"
   ]
  },
  {
   "cell_type": "code",
   "execution_count": 23,
   "id": "b1a3ef57",
   "metadata": {},
   "outputs": [
    {
     "data": {
      "text/plain": [
       "((126, 13), (32, 13))"
      ]
     },
     "execution_count": 23,
     "metadata": {},
     "output_type": "execute_result"
    }
   ],
   "source": [
    "X_train.shape,X_test.shape"
   ]
  },
  {
   "cell_type": "code",
   "execution_count": 24,
   "id": "c5792dd4",
   "metadata": {},
   "outputs": [
    {
     "data": {
      "text/plain": [
       "((126,), (32,))"
      ]
     },
     "execution_count": 24,
     "metadata": {},
     "output_type": "execute_result"
    }
   ],
   "source": [
    "Y_train.shape,Y_test.shape"
   ]
  },
  {
   "cell_type": "markdown",
   "id": "2e0c85c3",
   "metadata": {},
   "source": [
    "<a id=\"Import\"></a>\n",
    "<p style=\"background-color: #008080; font-family: 'Arial', sans-serif; color: #FFFFFF; font-size:160%; text-align:center; padding: 15px 25px; margin-top: 25px; border: 4px solid #20B2AA; border-left: 15px solid #FF6347; border-right: none; border-top: none; border-bottom: none; box-shadow: 0px 5px 10px rgba(0, 0, 0, 0.2);\">RandomForestClassifier</p>\n"
   ]
  },
  {
   "cell_type": "code",
   "execution_count": 25,
   "id": "0b36c13e-2a58-4aae-988d-56f44af8ea68",
   "metadata": {},
   "outputs": [
    {
     "name": "stdout",
     "output_type": "stream",
     "text": [
      "accuracy score on the training data :  1.0\n",
      "accuracy score on the testing data :  1.0\n"
     ]
    }
   ],
   "source": [
    "model = RandomForestClassifier()\n",
    "model.fit(X_train, Y_train)\n",
    "print('accuracy score on the training data : ',model.score(X_train, Y_train))\n",
    "print('accuracy score on the testing data : ',model.score(X_test, Y_test))"
   ]
  },
  {
   "cell_type": "markdown",
   "id": "de312c16",
   "metadata": {},
   "source": [
    "<a id=\"Import\"></a>\n",
    "<p style=\"background-color: #008080; font-family: 'Arial', sans-serif; color: #FFFFFF; font-size:160%; text-align:center; padding: 15px 25px; margin-top: 25px; border: 4px solid #20B2AA; border-left: 15px solid #FF6347; border-right: none; border-top: none; border-bottom: none; box-shadow: 0px 5px 10px rgba(0, 0, 0, 0.2);\">6.  accuracy score on the training & testing data\n",
    "</p>"
   ]
  },
  {
   "cell_type": "markdown",
   "id": "87edc4c6",
   "metadata": {},
   "source": [
    "### accuracy score on the training data"
   ]
  },
  {
   "cell_type": "code",
   "execution_count": 26,
   "id": "4cd8ebc1",
   "metadata": {},
   "outputs": [
    {
     "name": "stdout",
     "output_type": "stream",
     "text": [
      "accuracy score on the training data :  1.0\n"
     ]
    }
   ],
   "source": [
    "X_train_pred=model.predict(X_train)\n",
    "print('accuracy score on the training data : ',accuracy_score(X_train_pred,Y_train))"
   ]
  },
  {
   "cell_type": "markdown",
   "id": "a082368e",
   "metadata": {},
   "source": [
    "### accuracy score on the testing data"
   ]
  },
  {
   "cell_type": "code",
   "execution_count": 27,
   "id": "4e2d360c",
   "metadata": {},
   "outputs": [
    {
     "name": "stdout",
     "output_type": "stream",
     "text": [
      "accuracy score on the training data :  1.0\n"
     ]
    }
   ],
   "source": [
    "X_test_pred=model.predict(X_test)\n",
    "print('accuracy score on the training data : ',accuracy_score(X_test_pred,Y_test))"
   ]
  },
  {
   "cell_type": "markdown",
   "id": "7e1e9250",
   "metadata": {},
   "source": [
    "<a id=\"Import\"></a>\n",
    "<p style=\"background-color: #008080; font-family: 'Arial', sans-serif; color: #FFFFFF; font-size:160%; text-align:center; padding: 15px 25px; margin-top: 25px; border: 4px solid #20B2AA; border-left: 15px solid #FF6347; border-right: none; border-top: none; border-bottom: none; box-shadow: 0px 5px 10px rgba(0, 0, 0, 0.2);\">7. Building System to Predict Input</p>"
   ]
  },
  {
   "cell_type": "code",
   "execution_count": 29,
   "id": "9d4e1e31",
   "metadata": {},
   "outputs": [
    {
     "name": "stdout",
     "output_type": "stream",
     "text": [
      "[[-1.80121276  1.56357521 -0.35856858  2.10909361  0.728626    0.16669349\n",
      "  -1.18516972 -0.18373676 -0.41326607 -0.54181979  1.90972742  2.15472902\n",
      "  -0.33567254]]\n",
      "[1]\n",
      "Chronic kidney disease + Positive\n"
     ]
    },
    {
     "name": "stderr",
     "output_type": "stream",
     "text": [
      "C:\\Users\\HP Elite BOOK\\AppData\\Roaming\\Python\\Python312\\site-packages\\sklearn\\base.py:493: UserWarning: X does not have valid feature names, but StandardScaler was fitted with feature names\n",
      "  warnings.warn(\n"
     ]
    }
   ],
   "source": [
    "input_data=(1.010,3.0,0,1,87.0,2.7,130.0,4.0,12.5,37.0,1,1,0) # 6th Row\n",
    "input_data_arr=np.asarray(input_data)\n",
    "input_data_arr_reshape=input_data_arr.reshape(1,-1)\n",
    "\n",
    "\n",
    "input_data_arr_scaler=scaler.transform(input_data_arr_reshape)\n",
    "print(input_data_arr_scaler)\n",
    "\n",
    "\n",
    "predict_input=model.predict(input_data_arr_scaler)\n",
    "print(predict_input)\n",
    "\n",
    "\n",
    "if predict_input==0:\n",
    "    print(\"Chronic kidney disease - Negative\")\n",
    "else:\n",
    "    print(\"Chronic kidney disease + Positive\")\n"
   ]
  },
  {
   "cell_type": "markdown",
   "id": "5c186622-d5f0-4c7b-91ca-348e425379a3",
   "metadata": {},
   "source": [
    "<p style=\"background-color: #008080; font-family: 'Arial', sans-serif; color: #FFFFFF; font-size:160%; text-align:center; padding: 15px 25px; margin-top: 25px; border: 4px solid #20B2AA; border-left: 15px solid #FF6347; border-right: none; border-top: none; border-bottom: none; box-shadow: 0px 5px 10px rgba(0, 0, 0, 0.2);\"> Saving Model</p>"
   ]
  },
  {
   "cell_type": "code",
   "execution_count": 30,
   "id": "257b29e6-dc89-48ed-b8e8-d3aed125aee8",
   "metadata": {},
   "outputs": [],
   "source": [
    "import joblib"
   ]
  },
  {
   "cell_type": "code",
   "execution_count": 31,
   "id": "4c11aca2-d910-445e-89e2-45a25adb73a4",
   "metadata": {},
   "outputs": [
    {
     "name": "stdout",
     "output_type": "stream",
     "text": [
      "Model saved!\n",
      "Scaler saved!\n",
      "Restored Model Accuracy: 1.00\n"
     ]
    }
   ],
   "source": [
    "joblib.dump(model, 'Chronickidney.pkl')\n",
    "print(\"Model saved!\")\n",
    "\n",
    "joblib.dump(scaler, 'ScalerChronickidney.pkl')\n",
    "print(\"Scaler saved!\")\n",
    "# --- استعادة النموذج واستخدامه ---\n",
    "# تحميل النموذج المحفوظ\n",
    "loaded_model = joblib.load('Chronickidney.pkl')\n",
    "\n",
    "# استخدام النموذج المحمل للتنبؤ\n",
    "new_predictions = loaded_model.predict(X_test)\n",
    "print(f\"Restored Model Accuracy: {accuracy_score(Y_test, new_predictions):.2f}\")"
   ]
  },
  {
   "cell_type": "code",
   "execution_count": 32,
   "id": "a1450fc5-73b6-470d-92a9-d141ae696e34",
   "metadata": {},
   "outputs": [
    {
     "data": {
      "text/plain": [
       "array([0, 0, 0, 0, 0, 1, 0, 0, 0, 0, 1, 0, 1, 0, 1, 1, 0, 0, 0, 0, 0, 1,\n",
       "       1, 1, 1, 0, 0, 0, 0, 0, 0, 0], dtype=int64)"
      ]
     },
     "execution_count": 32,
     "metadata": {},
     "output_type": "execute_result"
    }
   ],
   "source": [
    "loaded_model.predict(X_test)"
   ]
  },
  {
   "cell_type": "code",
   "execution_count": 33,
   "id": "27869061-acdc-4e79-88a9-df603cc4a722",
   "metadata": {},
   "outputs": [
    {
     "data": {
      "text/plain": [
       "array([0, 0, 0, 0, 0, 1, 0, 0, 0, 0, 1, 0, 1, 0, 1, 1, 0, 0, 0, 0, 0, 1,\n",
       "       1, 1, 1, 0, 0, 0, 0, 0, 0, 0], dtype=int64)"
      ]
     },
     "execution_count": 33,
     "metadata": {},
     "output_type": "execute_result"
    }
   ],
   "source": [
    "\n",
    "np.array(X_test_pred)\n"
   ]
  }
 ],
 "metadata": {
  "kernelspec": {
   "display_name": "Python 3 (ipykernel)",
   "language": "python",
   "name": "python3"
  },
  "language_info": {
   "codemirror_mode": {
    "name": "ipython",
    "version": 3
   },
   "file_extension": ".py",
   "mimetype": "text/x-python",
   "name": "python",
   "nbconvert_exporter": "python",
   "pygments_lexer": "ipython3",
   "version": "3.12.7"
  }
 },
 "nbformat": 4,
 "nbformat_minor": 5
}
