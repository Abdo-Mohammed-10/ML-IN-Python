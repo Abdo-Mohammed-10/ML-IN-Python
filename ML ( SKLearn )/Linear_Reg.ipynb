{
 "cells": [
  {
   "cell_type": "code",
   "execution_count": 1,
   "id": "33636efe",
   "metadata": {},
   "outputs": [],
   "source": [
    "import pandas as pd\n",
    "import numpy as np\n",
    "from matplotlib import pyplot as plt\n",
    "%matplotlib inline\n",
    "from sklearn import datasets,model_selection,linear_model,metrics,preprocessing\n",
    "from sklearn.model_selection import train_test_split"
   ]
  },
  {
   "cell_type": "code",
   "execution_count": 3,
   "id": "3b8a93b4",
   "metadata": {},
   "outputs": [],
   "source": [
    "x,y=datasets.load_diabetes(return_X_y=True)"
   ]
  },
  {
   "cell_type": "code",
   "execution_count": 4,
   "id": "8e0ce848",
   "metadata": {},
   "outputs": [
    {
     "data": {
      "text/plain": [
       "((442, 10), (442,))"
      ]
     },
     "execution_count": 4,
     "metadata": {},
     "output_type": "execute_result"
    }
   ],
   "source": [
    "x.shape,y.shape"
   ]
  },
  {
   "cell_type": "code",
   "execution_count": 5,
   "id": "b929f6d2",
   "metadata": {},
   "outputs": [],
   "source": [
    "y_normalize=preprocessing.MinMaxScaler()\n",
    "\n",
    "\n",
    "x_normalize=preprocessing.StandardScaler()"
   ]
  },
  {
   "cell_type": "code",
   "execution_count": 7,
   "id": "f84d9f43",
   "metadata": {},
   "outputs": [],
   "source": [
    "y_norm=y_normalize.fit_transform(y.reshape(-1,1))\n",
    "\n",
    "x_norm=x_normalize.fit_transform(x)"
   ]
  },
  {
   "cell_type": "code",
   "execution_count": 20,
   "id": "ef113a9f",
   "metadata": {},
   "outputs": [],
   "source": [
    "x_train,x_test,y_train,y_test=model_selection.train_test_split(x_norm,y_norm.reshape(-1),test_size=0.1,random_state=42)\n",
    "#stratify used to classification"
   ]
  },
  {
   "cell_type": "code",
   "execution_count": 21,
   "id": "5ab10236",
   "metadata": {},
   "outputs": [
    {
     "data": {
      "text/plain": [
       "((397, 10), (45, 10), (397,), (45,))"
      ]
     },
     "execution_count": 21,
     "metadata": {},
     "output_type": "execute_result"
    }
   ],
   "source": [
    "x_train.shape,x_test.shape,y_train.shape,y_test.shape"
   ]
  },
  {
   "cell_type": "code",
   "execution_count": 22,
   "id": "c6984392",
   "metadata": {},
   "outputs": [
    {
     "data": {
      "text/plain": [
       "(3, 1)"
      ]
     },
     "execution_count": 22,
     "metadata": {},
     "output_type": "execute_result"
    }
   ],
   "source": [
    "x=np.array([\n",
    "    [1],\n",
    "    [6],\n",
    "    [9]\n",
    "])\n",
    "x.shape"
   ]
  },
  {
   "cell_type": "code",
   "execution_count": 16,
   "id": "9f728b27",
   "metadata": {},
   "outputs": [
    {
     "data": {
      "text/plain": [
       "(3,)"
      ]
     },
     "execution_count": 16,
     "metadata": {},
     "output_type": "execute_result"
    }
   ],
   "source": [
    "y=np.array([\n",
    "    1,\n",
    "    2,\n",
    "    3\n",
    "])\n",
    "y.shape"
   ]
  },
  {
   "cell_type": "code",
   "execution_count": 24,
   "id": "c62263c2",
   "metadata": {},
   "outputs": [
    {
     "data": {
      "text/plain": [
       "LinearRegression()"
      ]
     },
     "execution_count": 24,
     "metadata": {},
     "output_type": "execute_result"
    }
   ],
   "source": [
    "r = linear_model.LinearRegression()\n",
    "r.fit(x_train,y_train)"
   ]
  },
  {
   "cell_type": "code",
   "execution_count": 26,
   "id": "3c34be8b",
   "metadata": {},
   "outputs": [
    {
     "data": {
      "text/plain": [
       "array([0.36780752, 0.47572972, 0.34206104, 0.82138703, 0.30711618,\n",
       "       0.22319002, 0.70937276, 0.49381817, 0.21484451, 0.26427776,\n",
       "       0.22755915, 0.44739884, 0.10310777, 0.56569974, 0.24114593,\n",
       "       0.32790322, 0.60142396, 0.6882266 , 0.5241231 , 0.58993599,\n",
       "       0.57267221, 0.20422633, 0.15312476, 0.50505183, 0.40923495,\n",
       "       0.41265972, 0.49587965, 0.47408187, 0.08486802, 0.26687457,\n",
       "       0.46435883, 0.20529129, 0.33669685, 0.49292799, 0.46397898,\n",
       "       0.51355913, 0.31421989, 0.30072866, 0.38613381, 0.11161503,\n",
       "       0.16000973, 0.25358943, 0.42742908, 0.39922359, 0.46489107])"
      ]
     },
     "execution_count": 26,
     "metadata": {},
     "output_type": "execute_result"
    }
   ],
   "source": [
    "r.predict(x_test)"
   ]
  },
  {
   "cell_type": "code",
   "execution_count": 27,
   "id": "5cbef8d5",
   "metadata": {},
   "outputs": [
    {
     "data": {
      "text/plain": [
       "0.02662901220648912"
      ]
     },
     "execution_count": 27,
     "metadata": {},
     "output_type": "execute_result"
    }
   ],
   "source": [
    "metrics.mean_squared_error(y_test,y_pred=r.predict(x_test))"
   ]
  }
 ],
 "metadata": {
  "kernelspec": {
   "display_name": "Python 3 (ipykernel)",
   "language": "python",
   "name": "python3"
  },
  "language_info": {
   "codemirror_mode": {
    "name": "ipython",
    "version": 3
   },
   "file_extension": ".py",
   "mimetype": "text/x-python",
   "name": "python",
   "nbconvert_exporter": "python",
   "pygments_lexer": "ipython3",
   "version": "3.9.13"
  }
 },
 "nbformat": 4,
 "nbformat_minor": 5
}
